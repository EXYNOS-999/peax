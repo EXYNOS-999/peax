{
 "cells": [
  {
   "cell_type": "markdown",
   "metadata": {},
   "source": [
    "# Test 2D CAE\n",
    "\n",
    "2D CNN-based AE (CAE) have shown remarkable results for image data, e.g., MNIST. In this notebook I am testing if a 2D CAE with a similar architecture to the CAE that shows favorable results for MNIST (https://blog.keras.io/building-autoencoders-in-keras.html)."
   ]
  },
  {
   "cell_type": "code",
   "execution_count": 1,
   "metadata": {},
   "outputs": [],
   "source": [
    "%load_ext autoreload\n",
    "%autoreload 2\n",
    "%matplotlib inline"
   ]
  },
  {
   "cell_type": "code",
   "execution_count": 2,
   "metadata": {},
   "outputs": [],
   "source": [
    "import os\n",
    "import sys\n",
    "import warnings\n",
    "import matplotlib.pyplot as plt\n",
    "\n",
    "# Ignore warnings. They just pollute the output\n",
    "warnings.filterwarnings('ignore')\n",
    "\n",
    "# Allow importing from parent directories\n",
    "module_path = os.path.abspath(os.path.join('..'))\n",
    "if module_path not in sys.path:\n",
    "    sys.path.append(module_path)\n",
    "\n",
    "assembly = 'hg19'\n",
    "window_size = 2400\n",
    "step_size = window_size / 2\n",
    "aggregation = 100\n",
    "chroms = ['chr1', 'chr22']"
   ]
  },
  {
   "cell_type": "markdown",
   "metadata": {},
   "source": [
    "## Load the data\n",
    "\n",
    "#### Download dataset"
   ]
  },
  {
   "cell_type": "code",
   "execution_count": 3,
   "metadata": {},
   "outputs": [
    {
     "name": "stdout",
     "output_type": "stream",
     "text": [
      "Download data...\n",
      "Done!\n"
     ]
    }
   ],
   "source": [
    "import wget\n",
    "from pathlib import Path\n",
    "\n",
    "Path('data').mkdir(parents=True, exist_ok=True) \n",
    "\n",
    "print('Download data...')\n",
    "\n",
    "# GM12878 ChIP-seq H3K27ac log10 p-val\n",
    "bw = 'data/ENCFF258KTL.bigWig'\n",
    "if not Path(bw).is_file():\n",
    "    wget.download(\n",
    "        'https://www.encodeproject.org/files/ENCFF258KTL/@@download/ENCFF258KTL.bigWig',\n",
    "        'data/ENCFF258KTL.bigWig',\n",
    "    )\n",
    "\n",
    "print('Done!')"
   ]
  },
  {
   "cell_type": "markdown",
   "metadata": {},
   "source": [
    "#### Retrieved binned genomic windows"
   ]
  },
  {
   "cell_type": "code",
   "execution_count": 5,
   "metadata": {},
   "outputs": [
    {
     "name": "stdout",
     "output_type": "stream",
     "text": [
      "Chrom: chr1 # win: 207708 Max:   168.2037875366211\n",
      "Chrom: chr22 # win: 42753 Max:   194.40118530273438\n"
     ]
    }
   ],
   "source": [
    "\"\"\"Chunk up the bigWig file\"\"\"\n",
    "\n",
    "from ae import bigwig\n",
    "\n",
    "data_train, data_test = bigwig.chunk(\n",
    "    bw,\n",
    "    window_size,\n",
    "    step_size,\n",
    "    aggregation,\n",
    "    chroms,\n",
    "    verbose=True,\n",
    ")"
   ]
  },
  {
   "cell_type": "markdown",
   "metadata": {},
   "source": [
    "#### Normalize the data\n",
    "\n",
    "The data is capped at the 99.9th percentile and normalized to `[0, 1]`."
   ]
  },
  {
   "cell_type": "code",
   "execution_count": 15,
   "metadata": {},
   "outputs": [
    {
     "name": "stdout",
     "output_type": "stream",
     "text": [
      "Train max: 168.2037875366211 | Train norm max: 35.221359405517575\n",
      "Test max:  194.40118530273438 | Test norm max: 35.95303882598877\n"
     ]
    }
   ],
   "source": [
    "import numpy as np\n",
    "from sklearn.preprocessing import MinMaxScaler\n",
    "\n",
    "cutoff = np.percentile(data_train, (0, 99.9))\n",
    "data_train_norm = np.copy(data_train)\n",
    "data_train_norm[np.where(data_train_norm < cutoff[0])] = cutoff[0]\n",
    "data_train_norm[np.where(data_train_norm > cutoff[1])] = cutoff[1]\n",
    "\n",
    "cutoff = np.percentile(data_test, (0, 99.9))\n",
    "data_test_norm = np.copy(data_test)\n",
    "data_test_norm[np.where(data_test_norm < cutoff[0])] = cutoff[0]\n",
    "data_test_norm[np.where(data_test_norm > cutoff[1])] = cutoff[1]\n",
    "\n",
    "print('Train max: {} | Train norm max: {}'.format(np.max(data_train), np.max(data_train_norm)))\n",
    "print('Test max:  {} | Test norm max: {}'.format(np.max(data_test), np.max(data_test_norm)))\n",
    "\n",
    "data_train_norm = MinMaxScaler().fit_transform(data_train_norm)\n",
    "data_test_norm = MinMaxScaler().fit_transform(data_test_norm)"
   ]
  },
  {
   "cell_type": "markdown",
   "metadata": {},
   "source": [
    "#### Convert the 1D data into 2D bar chart images with 1 channel"
   ]
  },
  {
   "cell_type": "code",
   "execution_count": 9,
   "metadata": {},
   "outputs": [
    {
     "name": "stderr",
     "output_type": "stream",
     "text": [
      "Using TensorFlow backend.\n"
     ]
    }
   ],
   "source": [
    "from ae.utils import to_2d\n",
    "\n",
    "ydim = 12\n",
    "val_max = 1.0\n",
    "dtype = np.float32\n",
    "\n",
    "data_2d_train_norm = to_2d(data_train_norm, ydim, val_max, dtype)\n",
    "data_2d_test_norm = to_2d(data_test_norm, ydim, val_max, dtype)"
   ]
  },
  {
   "cell_type": "code",
   "execution_count": 10,
   "metadata": {},
   "outputs": [
    {
     "data": {
      "text/plain": [
       "<Figure size 1440x144 with 0 Axes>"
      ]
     },
     "execution_count": 10,
     "metadata": {},
     "output_type": "execute_result"
    },
    {
     "data": {
      "image/png": "[encoded data removed]",
      "text/plain": [
       "<Figure size 1440x144 with 1 Axes>"
      ]
     },
     "metadata": {},
     "output_type": "display_data"
    },
    {
     "data": {
      "image/png": "[encoded data removed]",
      "text/plain": [
       "<Figure size 1440x144 with 1 Axes>"
      ]
     },
     "metadata": {},
     "output_type": "display_data"
    },
    {
     "data": {
      "text/plain": [
       "<Figure size 1440x144 with 0 Axes>"
      ]
     },
     "metadata": {},
     "output_type": "display_data"
    }
   ],
   "source": [
    "import seaborn as sns\n",
    "\n",
    "signal = np.sum(\n",
    "    data_2d_train_norm.reshape(data_2d_train_norm.shape[0], data_2d_train_norm.shape[1] * data_2d_train_norm.shape[2]),\n",
    "    axis=1\n",
    ")\n",
    "\n",
    "def logistic(x):\n",
    "    return 1 / (1 + 1000 * np.exp(-x / 30))\n",
    "\n",
    "plt.figure(figsize=(20, 2))\n",
    "sns.distplot(signal)\n",
    "plt.figure(figsize=(20, 2))\n",
    "plt.plot(logistic(np.arange(300)))\n",
    "\n",
    "sample_weights = logistic(signal)\n",
    "plt.figure(figsize=(20, 2))"
   ]
  },
  {
   "cell_type": "markdown",
   "metadata": {},
   "source": [
    "#### Plot the 10 windows with the highest amount of signal"
   ]
  },
  {
   "cell_type": "code",
   "execution_count": 12,
   "metadata": {},
   "outputs": [
    {
     "data": {
      "image/png": "[encoded data removed]",
      "text/plain": [
       "<Figure size 1440x720 with 10 Axes>"
      ]
     },
     "metadata": {},
     "output_type": "display_data"
    }
   ],
   "source": [
    "import matplotlib.pyplot as plt\n",
    "\n",
    "offset = np.argsort(signal[np.where(signal > threshold)])[-10:]\n",
    "n = 10\n",
    "\n",
    "plt.figure(figsize=(20, n))\n",
    "for i, k in enumerate(offset):\n",
    "    # display original\n",
    "    ax = plt.subplot(n, 5, i + 1)\n",
    "    plt.imshow(data_2d_train_norm_sub[k], cmap=\"gray\")\n",
    "    ax.get_xaxis().set_visible(False)\n",
    "    ax.get_yaxis().set_visible(False)\n",
    "plt.show()"
   ]
  },
  {
   "cell_type": "markdown",
   "metadata": {},
   "source": [
    "## Build the 2D CAE\n",
    "\n",
    "The architecture is similar to the CAE used for MNIST (https://blog.keras.io/building-autoencoders-in-keras.html)."
   ]
  },
  {
   "cell_type": "code",
   "execution_count": 46,
   "metadata": {},
   "outputs": [
    {
     "name": "stdout",
     "output_type": "stream",
     "text": [
      "_________________________________________________________________\n",
      "Layer (type)                 Output Shape              Param #   \n",
      "=================================================================\n",
      "decoded_input (InputLayer)   (None, 48, 24, 1)         0         \n",
      "_________________________________________________________________\n",
      "conv1 (Conv2D)               (None, 24, 12, 32)        832       \n",
      "_________________________________________________________________\n",
      "conv2 (Conv2D)               (None, 12, 6, 64)         51264     \n",
      "_________________________________________________________________\n",
      "conv3 (Conv2D)               (None, 6, 3, 128)         73856     \n",
      "_________________________________________________________________\n",
      "flatten (Flatten)            (None, 2304)              0         \n",
      "_________________________________________________________________\n",
      "fc1 (Dense)                  (None, 512)               1180160   \n",
      "_________________________________________________________________\n",
      "fc2 (Dense)                  (None, 256)               131328    \n",
      "_________________________________________________________________\n",
      "fc3 (Dense)                  (None, 128)               32896     \n",
      "_________________________________________________________________\n",
      "embed (Dense)                (None, 10)                1290      \n",
      "_________________________________________________________________\n",
      "dfc1 (Dense)                 (None, 128)               1408      \n",
      "_________________________________________________________________\n",
      "dfc2 (Dense)                 (None, 256)               33024     \n",
      "_________________________________________________________________\n",
      "dfc3 (Dense)                 (None, 512)               131584    \n",
      "_________________________________________________________________\n",
      "blowup (Dense)               (None, 2304)              1181952   \n",
      "_________________________________________________________________\n",
      "unflatten (Reshape)          (None, 6, 3, 128)         0         \n",
      "_________________________________________________________________\n",
      "deconv1 (Conv2DTranspose)    (None, 12, 6, 64)         73792     \n",
      "_________________________________________________________________\n",
      "deconv2 (Conv2DTranspose)    (None, 24, 12, 32)        51232     \n",
      "_________________________________________________________________\n",
      "deconv3 (Conv2DTranspose)    (None, 48, 24, 1)         801       \n",
      "=================================================================\n",
      "Total params: 2,945,419\n",
      "Trainable params: 2,945,419\n",
      "Non-trainable params: 0\n",
      "_________________________________________________________________\n",
      "_________________________________________________________________\n",
      "Layer (type)                 Output Shape              Param #   \n",
      "=================================================================\n",
      "decoded_input (InputLayer)   (None, 48, 24, 1)         0         \n",
      "_________________________________________________________________\n",
      "conv1 (Conv2D)               (None, 24, 12, 32)        832       \n",
      "_________________________________________________________________\n",
      "conv2 (Conv2D)               (None, 12, 6, 64)         51264     \n",
      "_________________________________________________________________\n",
      "conv3 (Conv2D)               (None, 6, 3, 128)         73856     \n",
      "_________________________________________________________________\n",
      "flatten (Flatten)            (None, 2304)              0         \n",
      "_________________________________________________________________\n",
      "fc1 (Dense)                  (None, 512)               1180160   \n",
      "_________________________________________________________________\n",
      "fc2 (Dense)                  (None, 256)               131328    \n",
      "_________________________________________________________________\n",
      "fc3 (Dense)                  (None, 128)               32896     \n",
      "_________________________________________________________________\n",
      "embed (Dense)                (None, 10)                1290      \n",
      "=================================================================\n",
      "Total params: 1,471,626\n",
      "Trainable params: 1,471,626\n",
      "Non-trainable params: 0\n",
      "_________________________________________________________________\n",
      "_________________________________________________________________\n",
      "Layer (type)                 Output Shape              Param #   \n",
      "=================================================================\n",
      "encoded_input (InputLayer)   (None, 10)                0         \n",
      "_________________________________________________________________\n",
      "dfc1 (Dense)                 (None, 128)               1408      \n",
      "_________________________________________________________________\n",
      "dfc2 (Dense)                 (None, 256)               33024     \n",
      "_________________________________________________________________\n",
      "dfc3 (Dense)                 (None, 512)               131584    \n",
      "_________________________________________________________________\n",
      "blowup (Dense)               (None, 2304)              1181952   \n",
      "_________________________________________________________________\n",
      "unflatten (Reshape)          (None, 6, 3, 128)         0         \n",
      "_________________________________________________________________\n",
      "deconv1 (Conv2DTranspose)    (None, 12, 6, 64)         73792     \n",
      "_________________________________________________________________\n",
      "deconv2 (Conv2DTranspose)    (None, 24, 12, 32)        51232     \n",
      "_________________________________________________________________\n",
      "deconv3 (Conv2DTranspose)    (None, 48, 24, 1)         801       \n",
      "=================================================================\n",
      "Total params: 1,473,793\n",
      "Trainable params: 1,473,793\n",
      "Non-trainable params: 0\n",
      "_________________________________________________________________\n",
      "None None None\n"
     ]
    }
   ],
   "source": [
    "from ae.cnn import cae2d\n",
    "\n",
    "encoder, decoder, autoencoder = cae2d(\n",
    "    (ydim, window_size // aggregation, 1),\n",
    "    optimizer='adadelta',\n",
    "    loss='binary_crossentropy',\n",
    "    summary=True\n",
    ")"
   ]
  },
  {
   "cell_type": "markdown",
   "metadata": {},
   "source": [
    "## Train the model"
   ]
  },
  {
   "cell_type": "code",
   "execution_count": 47,
   "metadata": {},
   "outputs": [
    {
     "name": "stdout",
     "output_type": "stream",
     "text": [
      "Train on 2163 samples, validate on 42753 samples\n",
      "Epoch 1/15\n",
      "2163/2163 [==============================] - 28s 13ms/step - loss: 0.6903 - val_loss: 0.6763\n",
      "Epoch 2/15\n",
      "2163/2163 [==============================] - 33s 15ms/step - loss: 0.6791 - val_loss: 0.6337\n",
      "Epoch 3/15\n",
      "2163/2163 [==============================] - 34s 16ms/step - loss: 0.6500 - val_loss: 0.5137\n",
      "Epoch 4/15\n",
      "2163/2163 [==============================] - 35s 16ms/step - loss: 0.6072 - val_loss: 0.3861\n",
      "Epoch 5/15\n",
      "2163/2163 [==============================] - 37s 17ms/step - loss: 0.5943 - val_loss: 0.3634\n",
      "Epoch 6/15\n",
      "2163/2163 [==============================] - 36s 17ms/step - loss: 0.5901 - val_loss: 0.3578\n",
      "Epoch 7/15\n",
      "2163/2163 [==============================] - 40s 18ms/step - loss: 0.5858 - val_loss: 0.3502\n",
      "Epoch 8/15\n",
      "2163/2163 [==============================] - 39s 18ms/step - loss: 0.5806 - val_loss: 0.3457\n",
      "Epoch 9/15\n",
      "2163/2163 [==============================] - 37s 17ms/step - loss: 0.5737 - val_loss: 0.3418\n",
      "Epoch 10/15\n",
      "2163/2163 [==============================] - 36s 16ms/step - loss: 0.5623 - val_loss: 0.3293\n",
      "Epoch 11/15\n",
      "2163/2163 [==============================] - 33s 15ms/step - loss: 0.5209 - val_loss: 0.2903\n",
      "Epoch 12/15\n",
      "2163/2163 [==============================] - 34s 16ms/step - loss: 0.4831 - val_loss: 0.2522\n",
      "Epoch 13/15\n",
      "2163/2163 [==============================] - 33s 15ms/step - loss: 0.4627 - val_loss: 0.2495\n",
      "Epoch 14/15\n",
      "2163/2163 [==============================] - 33s 15ms/step - loss: 0.4478 - val_loss: 0.2674\n",
      "Epoch 15/15\n",
      "2163/2163 [==============================] - 34s 16ms/step - loss: 0.4118 - val_loss: 0.2883\n"
     ]
    },
    {
     "data": {
      "text/plain": [
       "<keras.callbacks.History at 0x1a248f1a58>"
      ]
     },
     "execution_count": 47,
     "metadata": {},
     "output_type": "execute_result"
    }
   ],
   "source": [
    "from ae.utils import train\n",
    "\n",
    "train(\n",
    "    autoencoder,\n",
    "    data_2d_train_norm_sub.reshape((\n",
    "        data_2d_train_norm_sub.shape[0],\n",
    "        data_2d_train_norm_sub.shape[1],\n",
    "        data_2d_train_norm_sub.shape[2],\n",
    "        1\n",
    "    )),\n",
    "    data_2d_test_norm.reshape(\n",
    "        data_2d_test_norm.shape[0],\n",
    "        data_2d_test_norm.shape[1],\n",
    "        data_2d_test_norm.shape[2],\n",
    "        1\n",
    "    ),\n",
    "    epochs=15,\n",
    "    batch_size=256,\n",
    ")"
   ]
  },
  {
   "cell_type": "markdown",
   "metadata": {},
   "source": [
    "## Predict genomic windows and get the prediction loss"
   ]
  },
  {
   "cell_type": "code",
   "execution_count": 48,
   "metadata": {},
   "outputs": [],
   "source": [
    "from keras.metrics import binary_crossentropy\n",
    "from ae.utils import predict_2d\n",
    "\n",
    "predicted, loss, encoded = predict_2d(\n",
    "    encoder,\n",
    "    decoder,\n",
    "    data_2d_test_norm.reshape(\n",
    "        data_2d_test_norm.shape[0],\n",
    "        data_2d_test_norm.shape[1],\n",
    "        data_2d_test_norm.shape[2],\n",
    "        1\n",
    "    ),\n",
    "    validator=binary_crossentropy\n",
    ")"
   ]
  },
  {
   "cell_type": "markdown",
   "metadata": {},
   "source": [
    "## Compare predictions against the ground truth\n",
    "\n",
    "The groundtruth is plotted in black and white. The predictions are plotted in a red colormap."
   ]
  },
  {
   "cell_type": "code",
   "execution_count": 70,
   "metadata": {},
   "outputs": [
    {
     "data": {
      "image/png": "[encoded data removed]",
      "text/plain": [
       "<Figure size 1440x720 with 20 Axes>"
      ]
     },
     "metadata": {},
     "output_type": "display_data"
    }
   ],
   "source": [
    "import matplotlib.pyplot as plt\n",
    "\n",
    "ymax = 1.0\n",
    "offset = np.arange(3809, 3827) # 2011: good to bad\n",
    "offset = np.arange(32370, 32380)\n",
    "n = offset.size\n",
    "\n",
    "plt.figure(figsize=(20, n))\n",
    "for i, k in enumerate(offset):\n",
    "    # display original\n",
    "    ax = plt.subplot(n, 10, i * 2 + 1)\n",
    "    plt.imshow(data_2d_test_norm[k], cmap=\"gray\", interpolation='nearest')\n",
    "    ax.get_xaxis().set_visible(False)\n",
    "    ax.get_yaxis().set_visible(False)\n",
    "\n",
    "    # display reconstruction\n",
    "    ax = plt.subplot(n, 10, i * 2 + 2)\n",
    "    plt.imshow(predicted[k], cmap=\"Reds\", interpolation='nearest')\n",
    "    ax.get_xaxis().set_visible(False)\n",
    "    ax.get_yaxis().set_visible(False)\n",
    "plt.show()"
   ]
  },
  {
   "cell_type": "markdown",
   "metadata": {},
   "source": [
    "---\n",
    "\n",
    "## As a sanity check: run a very similar CAE against MNIST"
   ]
  },
  {
   "cell_type": "code",
   "execution_count": 296,
   "metadata": {},
   "outputs": [
    {
     "name": "stdout",
     "output_type": "stream",
     "text": [
      "_________________________________________________________________\n",
      "Layer (type)                 Output Shape              Param #   \n",
      "=================================================================\n",
      "decoded_input (InputLayer)   (None, 28, 28, 1)         0         \n",
      "_________________________________________________________________\n",
      "conv1 (Conv2D)               (None, 14, 14, 32)        832       \n",
      "_________________________________________________________________\n",
      "conv2 (Conv2D)               (None, 7, 7, 64)          51264     \n",
      "_________________________________________________________________\n",
      "conv3 (Conv2D)               (None, 3, 3, 128)         73856     \n",
      "_________________________________________________________________\n",
      "flatten (Flatten)            (None, 1152)              0         \n",
      "_________________________________________________________________\n",
      "embed (Dense)                (None, 10)                11530     \n",
      "_________________________________________________________________\n",
      "deembed (Dense)              (None, 1152)              12672     \n",
      "_________________________________________________________________\n",
      "unflatten (Reshape)          (None, 3, 3, 128)         0         \n",
      "_________________________________________________________________\n",
      "deconv1 (Conv2DTranspose)    (None, 7, 7, 64)          73792     \n",
      "_________________________________________________________________\n",
      "deconv2 (Conv2DTranspose)    (None, 14, 14, 32)        51232     \n",
      "_________________________________________________________________\n",
      "deconv3 (Conv2DTranspose)    (None, 28, 28, 1)         801       \n",
      "=================================================================\n",
      "Total params: 275,979\n",
      "Trainable params: 275,979\n",
      "Non-trainable params: 0\n",
      "_________________________________________________________________\n",
      "_________________________________________________________________\n",
      "Layer (type)                 Output Shape              Param #   \n",
      "=================================================================\n",
      "decoded_input (InputLayer)   (None, 28, 28, 1)         0         \n",
      "_________________________________________________________________\n",
      "conv1 (Conv2D)               (None, 14, 14, 32)        832       \n",
      "_________________________________________________________________\n",
      "conv2 (Conv2D)               (None, 7, 7, 64)          51264     \n",
      "_________________________________________________________________\n",
      "conv3 (Conv2D)               (None, 3, 3, 128)         73856     \n",
      "_________________________________________________________________\n",
      "flatten (Flatten)            (None, 1152)              0         \n",
      "_________________________________________________________________\n",
      "embed (Dense)                (None, 10)                11530     \n",
      "=================================================================\n",
      "Total params: 137,482\n",
      "Trainable params: 137,482\n",
      "Non-trainable params: 0\n",
      "_________________________________________________________________\n",
      "_________________________________________________________________\n",
      "Layer (type)                 Output Shape              Param #   \n",
      "=================================================================\n",
      "encoded_input (InputLayer)   (None, 10)                0         \n",
      "_________________________________________________________________\n",
      "deembed (Dense)              (None, 1152)              12672     \n",
      "_________________________________________________________________\n",
      "unflatten (Reshape)          (None, 3, 3, 128)         0         \n",
      "_________________________________________________________________\n",
      "deconv1 (Conv2DTranspose)    (None, 7, 7, 64)          73792     \n",
      "_________________________________________________________________\n",
      "deconv2 (Conv2DTranspose)    (None, 14, 14, 32)        51232     \n",
      "_________________________________________________________________\n",
      "deconv3 (Conv2DTranspose)    (None, 28, 28, 1)         801       \n",
      "=================================================================\n",
      "Total params: 138,497\n",
      "Trainable params: 138,497\n",
      "Non-trainable params: 0\n",
      "_________________________________________________________________\n",
      "None None None\n",
      "Train on 60000 samples, validate on 10000 samples\n",
      "Epoch 1/25\n",
      "60000/60000 [==============================] - 65s 1ms/step - loss: 0.0938 - val_loss: 0.0643\n",
      "Epoch 2/25\n",
      "60000/60000 [==============================] - 56s 926us/step - loss: 0.0565 - val_loss: 0.0457\n",
      "Epoch 3/25\n",
      "60000/60000 [==============================] - 55s 923us/step - loss: 0.0405 - val_loss: 0.0352\n",
      "Epoch 4/25\n",
      "60000/60000 [==============================] - 56s 927us/step - loss: 0.0340 - val_loss: 0.0319\n",
      "Epoch 5/25\n",
      "60000/60000 [==============================] - 59s 977us/step - loss: 0.0314 - val_loss: 0.0296\n",
      "Epoch 6/25\n",
      "60000/60000 [==============================] - 56s 932us/step - loss: 0.0297 - val_loss: 0.0281\n",
      "Epoch 7/25\n",
      "60000/60000 [==============================] - 56s 937us/step - loss: 0.0286 - val_loss: 0.0277\n",
      "Epoch 8/25\n",
      "60000/60000 [==============================] - 55s 914us/step - loss: 0.0277 - val_loss: 0.0269\n",
      "Epoch 9/25\n",
      "60000/60000 [==============================] - 57s 944us/step - loss: 0.0269 - val_loss: 0.0262\n",
      "Epoch 10/25\n",
      "60000/60000 [==============================] - 56s 928us/step - loss: 0.0263 - val_loss: 0.0261\n",
      "Epoch 11/25\n",
      "60000/60000 [==============================] - 59s 982us/step - loss: 0.0257 - val_loss: 0.0254\n",
      "Epoch 12/25\n",
      "60000/60000 [==============================] - 59s 983us/step - loss: 0.0253 - val_loss: 0.0245\n",
      "Epoch 13/25\n",
      "60000/60000 [==============================] - 58s 965us/step - loss: 0.0249 - val_loss: 0.0246\n",
      "Epoch 14/25\n",
      "60000/60000 [==============================] - 60s 1ms/step - loss: 0.0244 - val_loss: 0.0242\n",
      "Epoch 15/25\n",
      "60000/60000 [==============================] - 60s 1ms/step - loss: 0.0241 - val_loss: 0.0240\n",
      "Epoch 16/25\n",
      "60000/60000 [==============================] - 62s 1ms/step - loss: 0.0237 - val_loss: 0.0242\n",
      "Epoch 17/25\n",
      "60000/60000 [==============================] - 63s 1ms/step - loss: 0.0234 - val_loss: 0.0237\n",
      "Epoch 18/25\n",
      "60000/60000 [==============================] - 65s 1ms/step - loss: 0.0231 - val_loss: 0.0226\n",
      "Epoch 19/25\n",
      "60000/60000 [==============================] - 62s 1ms/step - loss: 0.0228 - val_loss: 0.0224\n",
      "Epoch 20/25\n",
      "60000/60000 [==============================] - 67s 1ms/step - loss: 0.0222 - val_loss: 0.0216\n",
      "Epoch 21/25\n",
      "60000/60000 [==============================] - 64s 1ms/step - loss: 0.0215 - val_loss: 0.0213\n",
      "Epoch 22/25\n",
      "60000/60000 [==============================] - 64s 1ms/step - loss: 0.0211 - val_loss: 0.0204\n",
      "Epoch 23/25\n",
      "60000/60000 [==============================] - 62s 1ms/step - loss: 0.0208 - val_loss: 0.0211\n",
      "Epoch 24/25\n",
      "60000/60000 [==============================] - 63s 1ms/step - loss: 0.0205 - val_loss: 0.0203\n",
      "Epoch 25/25\n",
      "60000/60000 [==============================] - 62s 1ms/step - loss: 0.0202 - val_loss: 0.0204\n"
     ]
    },
    {
     "data": {
      "text/plain": [
       "<keras.callbacks.History at 0x1a2675df98>"
      ]
     },
     "execution_count": 296,
     "metadata": {},
     "output_type": "execute_result"
    }
   ],
   "source": [
    "from keras.datasets import mnist\n",
    "\n",
    "(x_train, _), (x_test, _) = mnist.load_data()\n",
    "\n",
    "x_train = x_train.astype('float32') / 255.\n",
    "x_test = x_test.astype('float32') / 255.\n",
    "x_train = np.reshape(x_train, (len(x_train), 28, 28, 1))  # adapt this if using `channels_first` image data format\n",
    "x_test = np.reshape(x_test, (len(x_test), 28, 28, 1))  # adapt this if using `channels_first` image data format\n",
    "\n",
    "from ptfind.nn import cae2d\n",
    "\n",
    "encoder, decoder, autoencoder = cae2d(\n",
    "    (28, 28, 1),\n",
    "    filters=[32, 64, 128, 10],\n",
    "    kernel_sizes=[5, 5, 3],\n",
    "    optimizer='adadelta',\n",
    "    loss='mse',\n",
    "    summary=True\n",
    ")\n",
    "\n",
    "autoencoder.fit(\n",
    "    x_train, x_train,\n",
    "    epochs=25,\n",
    "    batch_size=128,\n",
    "    shuffle=True,\n",
    "    validation_data=(x_test, x_test),\n",
    ")"
   ]
  },
  {
   "cell_type": "markdown",
   "metadata": {},
   "source": [
    "#### Visualize the predictions on MNIST"
   ]
  },
  {
   "cell_type": "code",
   "execution_count": 297,
   "metadata": {},
   "outputs": [
    {
     "data": {
      "image/png": "[encoded data removed]",
      "text/plain": [
       "<Figure size 1440x288 with 20 Axes>"
      ]
     },
     "metadata": {},
     "output_type": "display_data"
    }
   ],
   "source": [
    "decoded_imgs = autoencoder.predict(x_test)\n",
    "\n",
    "n = 10\n",
    "plt.figure(figsize=(20, 4))\n",
    "for i in range(n):\n",
    "    # display original\n",
    "    ax = plt.subplot(2, n, i + 1)\n",
    "    plt.imshow(x_test[i].reshape(28, 28))\n",
    "    plt.gray()\n",
    "    ax.get_xaxis().set_visible(False)\n",
    "    ax.get_yaxis().set_visible(False)\n",
    "\n",
    "    # display reconstruction\n",
    "    ax = plt.subplot(2, n, i + n + 1)\n",
    "    plt.imshow(decoded_imgs[i].reshape(28, 28))\n",
    "    plt.gray()\n",
    "    ax.get_xaxis().set_visible(False)\n",
    "    ax.get_yaxis().set_visible(False)\n",
    "plt.show()"
   ]
  }
 ],
 "metadata": {
  "kernelspec": {
   "display_name": "Python 3",
   "language": "python",
   "name": "python3"
  },
  "language_info": {
   "codemirror_mode": {
    "name": "ipython",
    "version": 3
   },
   "file_extension": ".py",
   "mimetype": "text/x-python",
   "name": "python",
   "nbconvert_exporter": "python",
   "pygments_lexer": "ipython3",
   "version": "3.6.6"
  }
 },
 "nbformat": 4,
 "nbformat_minor": 2
}
