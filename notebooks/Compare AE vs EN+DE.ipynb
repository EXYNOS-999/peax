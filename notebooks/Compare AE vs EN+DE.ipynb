{
 "cells": [
  {
   "cell_type": "markdown",
   "metadata": {},
   "source": [
    "# Compare the autoencoder vs the encode-decoder\n",
    "\n",
    "Somehow the pickeled autoencoder model is about 3 times larger than the pickeled encoder and decoder model together. If the result of the autoencoder is the same as the encoder followed by the decoder then we don't need to save the autoencoder at all."
   ]
  },
  {
   "cell_type": "code",
   "execution_count": 2,
   "metadata": {},
   "outputs": [],
   "source": [
    "%load_ext autoreload\n",
    "%autoreload 2\n",
    "%matplotlib inline"
   ]
  },
  {
   "cell_type": "code",
   "execution_count": 3,
   "metadata": {},
   "outputs": [],
   "source": [
    "import os\n",
    "import sys\n",
    "import warnings\n",
    "warnings.filterwarnings('ignore')\n",
    "\n",
    "module_path = os.path.abspath(os.path.join('..'))\n",
    "if module_path not in sys.path:\n",
    "    sys.path.append(module_path)\n",
    "\n",
    "assembly = 'hg19'\n",
    "window_size = 12000\n",
    "step_size = window_size / 2\n",
    "aggregation = 100\n",
    "chroms = ['chr22']"
   ]
  },
  {
   "cell_type": "markdown",
   "metadata": {},
   "source": [
    "## Load and normalize the data\n",
    "\n",
    "#### Download the data"
   ]
  },
  {
   "cell_type": "code",
   "execution_count": 4,
   "metadata": {},
   "outputs": [
    {
     "name": "stdout",
     "output_type": "stream",
     "text": [
      "Download data...\n",
      "Done!\n"
     ]
    }
   ],
   "source": [
    "import wget\n",
    "from pathlib import Path\n",
    "\n",
    "Path('data').mkdir(parents=True, exist_ok=True) \n",
    "\n",
    "print('Download data...')\n",
    "\n",
    "# GM12878 DNase-seq read-depth normalized signal\n",
    "bw = 'data/ENCFF158GBQ.bigWig'\n",
    "if not Path(bw).is_file():\n",
    "    wget.download(\n",
    "        'https://www.encodeproject.org/files/ENCFF158GBQ/@@download/ENCFF158GBQ.bigWig',\n",
    "        'data/ENCFF158GBQ.bigWig',\n",
    "    )\n",
    "\n",
    "print('Done!')"
   ]
  },
  {
   "cell_type": "markdown",
   "metadata": {},
   "source": [
    "#### Extract genomic windows"
   ]
  },
  {
   "cell_type": "code",
   "execution_count": 5,
   "metadata": {},
   "outputs": [
    {
     "name": "stdout",
     "output_type": "stream",
     "text": [
      "Chrom: chr22 # win: 8550 Max:   21.434190273284912\n"
     ]
    }
   ],
   "source": [
    "\"\"\"Chunk up the bigWig file\"\"\"\n",
    "\n",
    "from ae import bigwig\n",
    "\n",
    "data = bigwig.chunk(\n",
    "    bw,\n",
    "    window_size,\n",
    "    step_size,\n",
    "    aggregation,\n",
    "    chroms,\n",
    "    verbose=True,\n",
    ")[0]"
   ]
  },
  {
   "cell_type": "markdown",
   "metadata": {},
   "source": [
    "#### Then, cap the data at the 99.9th percentile and normalize it to `[0,1]`"
   ]
  },
  {
   "cell_type": "code",
   "execution_count": 7,
   "metadata": {},
   "outputs": [],
   "source": [
    "import numpy as np\n",
    "from sklearn.preprocessing import MinMaxScaler\n",
    "\n",
    "cutoff = np.percentile(data, (0, 99.9))\n",
    "data_norm = np.copy(data)\n",
    "data_norm[np.where(data_norm < cutoff[0])] = cutoff[0]\n",
    "data_norm[np.where(data_norm > cutoff[1])] = cutoff[1]\n",
    "\n",
    "data_norm = MinMaxScaler().fit_transform(data_norm)"
   ]
  },
  {
   "cell_type": "markdown",
   "metadata": {},
   "source": [
    "## Import the models"
   ]
  },
  {
   "cell_type": "code",
   "execution_count": 8,
   "metadata": {},
   "outputs": [
    {
     "name": "stderr",
     "output_type": "stream",
     "text": [
      "Using TensorFlow backend.\n"
     ]
    }
   ],
   "source": [
    "import keras\n",
    "\n",
    "en = keras.models.load_model(\"../data/models/encode-gm12878-chip-seq-h3k27ac-pval-2011-encoder-dcae.h5\")\n",
    "de = keras.models.load_model(\"../data/models/encode-gm12878-chip-seq-h3k27ac-pval-2011-decoder-dcae.h5\")\n",
    "ae = keras.models.load_model(\"../data/models/encode-gm12878-chip-seq-h3k27ac-pval-2011-autoencoder-dcae.h5\")"
   ]
  },
  {
   "cell_type": "markdown",
   "metadata": {},
   "source": [
    "## Encode an example window\n",
    "\n",
    "Encode an example using the encoder+decoder and the autoencoder and test the equality of the output:"
   ]
  },
  {
   "cell_type": "code",
   "execution_count": 9,
   "metadata": {},
   "outputs": [
    {
     "name": "stdout",
     "output_type": "stream",
     "text": [
      "The encoder+decoder and autoencoder outputs are equal: True\n"
     ]
    }
   ],
   "source": [
    "window_id = 5920\n",
    "\n",
    "data_test = data_norm[window_id].reshape(1, data_norm[window_id].shape[0], 1)\n",
    "\n",
    "encoded = en.predict(data_test)\n",
    "decoded = np.squeeze(de.predict(encoded))\n",
    "\n",
    "autoencoded = np.squeeze(ae.predict(data_test))\n",
    "\n",
    "print('The encoder+decoder and autoencoder outputs are equal: {}'.format(np.array_equal(decoded, autoencoded)))"
   ]
  },
  {
   "cell_type": "markdown",
   "metadata": {},
   "source": [
    "## Visualize the example window and encodings"
   ]
  },
  {
   "cell_type": "code",
   "execution_count": 10,
   "metadata": {},
   "outputs": [
    {
     "data": {
      "image/png": "[encoded data removed]",
      "text/plain": [
       "<Figure size 1440x432 with 3 Axes>"
      ]
     },
     "metadata": {},
     "output_type": "display_data"
    }
   ],
   "source": [
    "import matplotlib.pyplot as plt\n",
    "\n",
    "ymax = 0.5\n",
    "\n",
    "X = np.arange(data_norm[window_id].size)\n",
    "\n",
    "plt.figure(figsize=(20, 6))\n",
    "    \n",
    "# display original\n",
    "ax = plt.subplot(3, 1, 1)\n",
    "ax.set_facecolor('#efefef')\n",
    "plt.bar(X, data_norm[window_id], color='gray')\n",
    "plt.ylim(0, ymax)\n",
    "ax.get_xaxis().set_visible(False)\n",
    "\n",
    "# display reconstruction\n",
    "ax = plt.subplot(3, 1, 2)\n",
    "ax.set_facecolor('#F3E1FF')\n",
    "plt.bar(X, decoded, color='#8B10BB')\n",
    "plt.ylim(0, ymax)\n",
    "ax.get_xaxis().set_visible(False)\n",
    "\n",
    "# display reconstruction\n",
    "ax = plt.subplot(3, 1, 3)\n",
    "ax.set_facecolor('#CBE6FF')\n",
    "plt.bar(X, autoencoded, color='#0067A3')\n",
    "plt.ylim(0, ymax)\n",
    "ax.get_xaxis().set_visible(False)\n",
    "\n",
    "plt.show()"
   ]
  },
  {
   "cell_type": "code",
   "execution_count": null,
   "metadata": {},
   "outputs": [],
   "source": []
  }
 ],
 "metadata": {
  "kernelspec": {
   "display_name": "Python 3",
   "language": "python",
   "name": "python3"
  },
  "language_info": {
   "codemirror_mode": {
    "name": "ipython",
    "version": 3
   },
   "file_extension": ".py",
   "mimetype": "text/x-python",
   "name": "python",
   "nbconvert_exporter": "python",
   "pygments_lexer": "ipython3",
   "version": "3.6.6"
  }
 },
 "nbformat": 4,
 "nbformat_minor": 2
}
