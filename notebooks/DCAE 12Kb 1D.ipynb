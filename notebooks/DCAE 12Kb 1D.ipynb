{
 "cells": [
  {
   "cell_type": "markdown",
   "metadata": {},
   "source": [
    "# Dense Convolutional AE (DCAE)\n",
    "\n",
    "In this notebook I am testing CAE combined with several densely connected layers on 1D data tracks."
   ]
  },
  {
   "cell_type": "code",
   "execution_count": 1,
   "metadata": {},
   "outputs": [],
   "source": [
    "%load_ext autoreload\n",
    "%autoreload 2\n",
    "%matplotlib inline"
   ]
  },
  {
   "cell_type": "code",
   "execution_count": 2,
   "metadata": {},
   "outputs": [],
   "source": [
    "import math\n",
    "import numpy as np\n",
    "import time\n",
    "import os\n",
    "import sys\n",
    "import warnings\n",
    "warnings.filterwarnings('ignore')\n",
    "\n",
    "module_path = os.path.abspath(os.path.join('..'))\n",
    "if module_path not in sys.path:\n",
    "    sys.path.append(module_path)\n",
    "\n",
    "assembly = 'hg19'\n",
    "window_size = 12000\n",
    "step_size = window_size / 2\n",
    "aggregation = 100\n",
    "\n",
    "chroms = [\n",
    "    # Training\n",
    "    'chr1', 'chr2', 'chr3', 'chr4', 'chr5', 'chr6', 'chr7', 'chr8', 'chr9', 'chr10',\n",
    "    'chr11', 'chr12', 'chr13', 'chr14', 'chr15',\n",
    "    # Testing\n",
    "    'chr16', 'chr17', 'chr18', 'chr19', 'chr20',  'chr21', 'chr22', 'chrX'\n",
    "]"
   ]
  },
  {
   "cell_type": "markdown",
   "metadata": {},
   "source": [
    "## Load, merge, normalize, and filter data\n",
    "\n",
    "#### Retrieved binned genomic windows"
   ]
  },
  {
   "cell_type": "code",
   "execution_count": 3,
   "metadata": {},
   "outputs": [
    {
     "name": "stdout",
     "output_type": "stream",
     "text": [
      "Download data...\n",
      "Done!\n"
     ]
    }
   ],
   "source": [
    "import wget\n",
    "from pathlib import Path\n",
    "\n",
    "Path('data').mkdir(parents=True, exist_ok=True) \n",
    "\n",
    "print('Download data...')\n",
    "\n",
    "# GM12878 DNase-seq read-depth normalized signal\n",
    "bw1 = 'data/ENCFF158GBQ.bigWig'\n",
    "if not Path(bw1).is_file():\n",
    "    wget.download(\n",
    "        'https://www.encodeproject.org/files/ENCFF158GBQ/@@download/ENCFF158GBQ.bigWig',\n",
    "        'data/ENCFF158GBQ.bigWig',\n",
    "    )\n",
    "\n",
    "# GM12878 ChIP-seq H3K27ac log10 p-val\n",
    "bw2 = 'data/ENCFF258KTL.bigWig'\n",
    "if not Path(bw2).is_file():\n",
    "    wget.download(\n",
    "        'https://www.encodeproject.org/files/ENCFF258KTL/@@download/ENCFF258KTL.bigWig',\n",
    "        'data/ENCFF258KTL.bigWig',\n",
    "    )\n",
    "\n",
    "print('Done!')"
   ]
  },
  {
   "cell_type": "code",
   "execution_count": 88,
   "metadata": {},
   "outputs": [
    {
     "name": "stdout",
     "output_type": "stream",
     "text": [
      "Chrom: chr1 # win: 41541 Max:   84.65786437988281\n",
      "Chrom: chr2 # win: 40533 Max:   34.59584045410156\n",
      "Chrom: chr3 # win: 33003 Max:   754.708974942565\n",
      "Chrom: chr4 # win: 31859 Max:   85.05682714376599\n",
      "Chrom: chr5 # win: 30152 Max:   41.60652942657471\n",
      "Chrom: chr6 # win: 28519 Max:   40.123119831085205\n",
      "Chrom: chr7 # win: 26523 Max:   92.87817115783692\n",
      "Chrom: chr8 # win: 24394 Max:   51.1911699295044\n",
      "Chrom: chr9 # win: 23535 Max:   12.23145271539688\n",
      "Chrom: chr10 # win: 22589 Max:   27.89546957015991\n",
      "Chrom: chr11 # win: 22501 Max:   20351.5005859375\n",
      "Chrom: chr12 # win: 22308 Max:   38.03064985275269\n",
      "Chrom: chr13 # win: 19194 Max:   17.129234886169435\n",
      "Chrom: chr14 # win: 17891 Max:   12.31135447025299\n",
      "Chrom: chr15 # win: 17088 Max:   16.326660537719725\n",
      "Chrom: chr16 # win: 15059 Max:   28.12018985748291\n",
      "Chrom: chr17 # win: 13532 Max:   38.36367921829223\n",
      "Chrom: chr18 # win: 13012 Max:   33.154639625549315\n",
      "Chrom: chr19 # win: 9854 Max:   32.29303021989763\n",
      "Chrom: chr20 # win: 10504 Max:   32.11337471008301\n",
      "Chrom: chr21 # win: 8021 Max:   64.28990936279297\n",
      "Chrom: chr22 # win: 8550 Max:   21.434190273284912\n",
      "Chrom: chrX # win: 25878 Max:   22.087380027770998\n"
     ]
    }
   ],
   "source": [
    "from ae import bigwig\n",
    "\n",
    "data = bigwig.chunk(\n",
    "    bw1,\n",
    "    window_size,\n",
    "    step_size,\n",
    "    aggregation,\n",
    "    chroms,\n",
    "    verbose=True,\n",
    ")"
   ]
  },
  {
   "cell_type": "markdown",
   "metadata": {},
   "source": [
    "#### Merge the binned windows into one training and test set"
   ]
  },
  {
   "cell_type": "code",
   "execution_count": 89,
   "metadata": {},
   "outputs": [],
   "source": [
    "num_training = 15\n",
    "\n",
    "train_num = 0\n",
    "test_num = 0\n",
    "\n",
    "for i in range(num_training):\n",
    "    train_num += data[i].shape[0]\n",
    "\n",
    "for i in range(num_training, len(data)):\n",
    "    test_num += data[i].shape[0]\n",
    "    \n",
    "data_train = np.zeros((train_num, window_size // aggregation))\n",
    "data_test = np.zeros((test_num, window_size // aggregation))\n",
    "\n",
    "k = 0\n",
    "for i in range(num_training):\n",
    "    l = k + data[i].shape[0]\n",
    "    data_train[k:l,] = data[i]\n",
    "    k = l\n",
    "\n",
    "k = 0\n",
    "for i in range(num_training, len(data)):\n",
    "    l = k + data[i].shape[0]\n",
    "    data_test[k:l,] = data[i]\n",
    "    k = l"
   ]
  },
  {
   "cell_type": "markdown",
   "metadata": {},
   "source": [
    "#### Cap at 99.9th percentile and normalize to `[0,1]`"
   ]
  },
  {
   "cell_type": "code",
   "execution_count": 90,
   "metadata": {},
   "outputs": [
    {
     "name": "stdout",
     "output_type": "stream",
     "text": [
      "Train Max: 1.3120553496331 Test Max:  1.9597131899179732\n"
     ]
    }
   ],
   "source": [
    "import numpy as np\n",
    "from sklearn.preprocessing import MinMaxScaler\n",
    "\n",
    "cutoff = np.percentile(data_train, (0, 99.9))\n",
    "data_train_norm = np.copy(data_train)\n",
    "data_train_norm[np.where(data_train_norm < cutoff[0])] = cutoff[0]\n",
    "data_train_norm[np.where(data_train_norm > cutoff[1])] = cutoff[1]\n",
    "\n",
    "cutoff = np.percentile(data_test, (0, 99.9))\n",
    "data_test_norm = np.copy(data_test)\n",
    "data_test_norm[np.where(data_test_norm < cutoff[0])] = cutoff[0]\n",
    "data_test_norm[np.where(data_test_norm > cutoff[1])] = cutoff[1]\n",
    "\n",
    "# print(\n",
    "#     'Train Max: {}'.format(np.max(data_train_norm)),\n",
    "#     'Test Max:  {}'.format(np.max(data_test_norm)),\n",
    "# )\n",
    "\n",
    "data_train_norm = MinMaxScaler().fit_transform(data_train_norm)\n",
    "data_test_norm = MinMaxScaler().fit_transform(data_test_norm)"
   ]
  },
  {
   "cell_type": "markdown",
   "metadata": {},
   "source": [
    "#### Visualize distribution of genomic windows by their sum\n",
    "\n",
    "**Training data:**"
   ]
  },
  {
   "cell_type": "code",
   "execution_count": 91,
   "metadata": {},
   "outputs": [
    {
     "name": "stdout",
     "output_type": "stream",
     "text": [
      "401630 338029\n"
     ]
    },
    {
     "data": {
      "image/png": "[encoded data removed]",
      "text/plain": [
       "<Figure size 432x288 with 1 Axes>"
      ]
     },
     "metadata": {},
     "output_type": "display_data"
    }
   ],
   "source": [
    "import seaborn as sns\n",
    "sum_thresh = 2\n",
    "dsum = np.sum(data_train_norm, axis=1)\n",
    "sns.distplot(dsum[np.where(dsum > 2)])\n",
    "print(\n",
    "    '{} out of {} 12Kb windows have a total signal above {}.'.format(\n",
    "        dsum[np.where(dsum > sum_thresh)].size, dsum.size, sum_thresh\n",
    "    )\n",
    ")"
   ]
  },
  {
   "cell_type": "markdown",
   "metadata": {},
   "source": [
    "**Test data:**"
   ]
  },
  {
   "cell_type": "code",
   "execution_count": 92,
   "metadata": {},
   "outputs": [
    {
     "name": "stdout",
     "output_type": "stream",
     "text": [
      "104410 65745\n"
     ]
    },
    {
     "data": {
      "image/png": "[encoded data removed]",
      "text/plain": [
       "<Figure size 432x288 with 1 Axes>"
      ]
     },
     "metadata": {},
     "output_type": "display_data"
    }
   ],
   "source": [
    "import seaborn as sns\n",
    "dsum = np.sum(data_test_norm, axis=1)\n",
    "sns.distplot(dsum[np.where(dsum > 2)])\n",
    "print(dsum.size, dsum[np.where(dsum > 2)].size)"
   ]
  },
  {
   "cell_type": "markdown",
   "metadata": {},
   "source": [
    "#### Filter data"
   ]
  },
  {
   "cell_type": "code",
   "execution_count": null,
   "metadata": {},
   "outputs": [],
   "source": [
    "threshold = 5\n",
    "\n",
    "train_sum = np.sum(data_train_norm, axis=1)\n",
    "final_train = data_train_norm[np.where(train_sum > threshold)]\n",
    "\n",
    "test_sum = np.sum(data_test_norm, axis=1)\n",
    "final_test = data_test_norm[np.where(test_sum > threshold)]\n",
    "\n",
    "print(data_train_norm.shape[0], final_train.shape[0], data_test_norm.shape[0], final_test.shape[0])"
   ]
  },
  {
   "cell_type": "markdown",
   "metadata": {},
   "source": [
    "## Define DCAEs"
   ]
  },
  {
   "cell_type": "code",
   "execution_count": 99,
   "metadata": {},
   "outputs": [],
   "source": [
    "from ae.cnn import cnn3\n",
    "\n",
    "num_setups = 1\n",
    "\n",
    "setups = {\n",
    "    \"cfilters\": [[256, 64]],\n",
    "    \"ckernel_sizes\": [[13, 9]],\n",
    "    \"dunits\": [[1920, 1920, 1920, 512, 64, 16]],\n",
    "    \"embedding\": [10] * num_setups,\n",
    "    \"dropouts\": [[0, 0, 0, 0.5, 0.5, 0, 0, 0]],\n",
    "    \"reg_lambda\": [0] * num_setups,\n",
    "    \"loss\": ['binary_crossentropy'] * num_setups,\n",
    "    \"epochs\": [25] * num_setups,\n",
    "}\n",
    "\n",
    "ens = []\n",
    "des = []\n",
    "aes = []\n",
    "\n",
    "for i in range(num_setups):\n",
    "    en, de, ae = cnn3(\n",
    "        window_size // aggregation,\n",
    "        cfilters=setups['cfilters'][i],\n",
    "        ckernel_sizes=setups['ckernel_sizes'][i],\n",
    "        dunits=setups['dunits'][i],\n",
    "        embedding=setups['embedding'][i],\n",
    "        dropouts=setups['dropouts'][i],\n",
    "        loss=setups['loss'][i],\n",
    "        reg_lambda=setups['reg_lambda'][i],\n",
    "        metrics=['accuracy'],\n",
    "        summary=False,\n",
    "    )\n",
    "    ens.append(en)\n",
    "    des.append(de)\n",
    "    aes.append(ae)"
   ]
  },
  {
   "cell_type": "markdown",
   "metadata": {},
   "source": [
    "## Train DCAEs"
   ]
  },
  {
   "cell_type": "code",
   "execution_count": null,
   "metadata": {},
   "outputs": [],
   "source": [
    "from ae.utils import train\n",
    "\n",
    "for i in range(num_setups):\n",
    "    train(\n",
    "        aes[i],\n",
    "        final_train.reshape(final_train.shape[0], final_train.shape[1], 1),\n",
    "        final_test.reshape(final_test.shape[0], final_test.shape[1], 1),\n",
    "        epochs=setups['epochs'][i],\n",
    "        batch_size=256,\n",
    "    )"
   ]
  },
  {
   "cell_type": "markdown",
   "metadata": {},
   "source": [
    "## Save DCAE models"
   ]
  },
  {
   "cell_type": "code",
   "execution_count": 85,
   "metadata": {},
   "outputs": [],
   "source": [
    "# ens[0].save('../data/models/encode-gm12878-chip-seq-h3k27ac-pval-2011-encoder-dcae.h5')\n",
    "# des[0].save('../data/models/encode-gm12878-chip-seq-h3k27ac-pval-2011-decoder-dcae.h5')\n",
    "# aes[0].save('../data/models/encode-gm12878-chip-seq-h3k27ac-pval-2011-autoencoder-dcae.h5')"
   ]
  },
  {
   "cell_type": "markdown",
   "metadata": {},
   "source": [
    "## Predict genomic windows"
   ]
  },
  {
   "cell_type": "code",
   "execution_count": 80,
   "metadata": {},
   "outputs": [
    {
     "name": "stdout",
     "output_type": "stream",
     "text": [
      "0 3.8496897\n"
     ]
    }
   ],
   "source": [
    "from keras.metrics import binary_crossentropy\n",
    "from ae.utils import predict\n",
    "\n",
    "predicteds = []\n",
    "losses = []\n",
    "\n",
    "for i in range(num_setups):\n",
    "    predicted, loss, _ = predict(\n",
    "        ens[i],\n",
    "        des[i],\n",
    "        data_test1_norm.reshape(data_test1_norm.shape[0], data_test1_norm.shape[1], 1),\n",
    "        validator=binary_crossentropy\n",
    "    )\n",
    "    predicteds.append(predicted.reshape(predicted.shape[0], predicted.shape[1]))\n",
    "    losses.append(loss)"
   ]
  },
  {
   "cell_type": "code",
   "execution_count": 81,
   "metadata": {},
   "outputs": [
    {
     "data": {
      "image/png": "[encoded data removed]",
      "text/plain": [
       "<Figure size 1440x864 with 16 Axes>"
      ]
     },
     "metadata": {},
     "output_type": "display_data"
    }
   ],
   "source": [
    "import matplotlib.pyplot as plt\n",
    "\n",
    "cmap = plt.get_cmap('tab10')\n",
    "\n",
    "n = 8\n",
    "offset = 5920\n",
    "offset = 5114\n",
    "offset = 5335\n",
    "\n",
    "ymax = 1.0\n",
    "\n",
    "plt.figure(figsize=(20, n * (num_setups + 1) * 0.75))\n",
    "for i in range(n):\n",
    "    k = i + offset\n",
    "    \n",
    "    # display original\n",
    "    ax = plt.subplot(n * (num_setups + 1), 1, i * (num_setups + 1) + 1)\n",
    "    ax.set_facecolor('#ffffff')\n",
    "    plt.bar(np.arange(data_test1_norm[k].size), data_test1_norm[k], color='#888888')\n",
    "    plt.ylim(0, ymax)\n",
    "    ax.get_xaxis().set_visible(False)\n",
    "    \n",
    "    for j in range(num_setups):\n",
    "        # display reconstruction\n",
    "        ax = plt.subplot(n * (num_setups + 1), 1, i * (num_setups + 1) + j + 2)\n",
    "        plt.bar(np.arange(predicteds[j][k].size), predicteds[j][k], color=cmap(j))\n",
    "        plt.ylim(0, ymax)\n",
    "        ax.get_xaxis().set_visible(False)\n",
    "plt.show()"
   ]
  },
  {
   "cell_type": "code",
   "execution_count": 119,
   "metadata": {},
   "outputs": [
    {
     "ename": "ValueError",
     "evalue": "num must be 1 <= num <= 24, not 25",
     "output_type": "error",
     "traceback": [
      "\u001b[0;31m---------------------------------------------------------------------------\u001b[0m",
      "\u001b[0;31mValueError\u001b[0m                                Traceback (most recent call last)",
      "\u001b[0;32m<ipython-input-119-7e37bf3b0478>\u001b[0m in \u001b[0;36m<module>\u001b[0;34m()\u001b[0m\n\u001b[1;32m     17\u001b[0m \u001b[0;34m\u001b[0m\u001b[0m\n\u001b[1;32m     18\u001b[0m     \u001b[0;31m# display original\u001b[0m\u001b[0;34m\u001b[0m\u001b[0;34m\u001b[0m\u001b[0m\n\u001b[0;32m---> 19\u001b[0;31m     \u001b[0max\u001b[0m \u001b[0;34m=\u001b[0m \u001b[0mplt\u001b[0m\u001b[0;34m.\u001b[0m\u001b[0msubplot\u001b[0m\u001b[0;34m(\u001b[0m\u001b[0mn\u001b[0m \u001b[0;34m*\u001b[0m \u001b[0;34m(\u001b[0m\u001b[0mnum_setups\u001b[0m \u001b[0;34m+\u001b[0m \u001b[0;36m1\u001b[0m\u001b[0;34m)\u001b[0m\u001b[0;34m,\u001b[0m \u001b[0;36m1\u001b[0m\u001b[0;34m,\u001b[0m \u001b[0mi\u001b[0m \u001b[0;34m*\u001b[0m \u001b[0;34m(\u001b[0m\u001b[0mnum_setups\u001b[0m \u001b[0;34m+\u001b[0m \u001b[0;36m2\u001b[0m\u001b[0;34m)\u001b[0m \u001b[0;34m+\u001b[0m \u001b[0;36m1\u001b[0m\u001b[0;34m)\u001b[0m\u001b[0;34m\u001b[0m\u001b[0m\n\u001b[0m\u001b[1;32m     20\u001b[0m     \u001b[0max\u001b[0m\u001b[0;34m.\u001b[0m\u001b[0mset_facecolor\u001b[0m\u001b[0;34m(\u001b[0m\u001b[0;34m'#ffffff'\u001b[0m\u001b[0;34m)\u001b[0m\u001b[0;34m\u001b[0m\u001b[0m\n\u001b[1;32m     21\u001b[0m     \u001b[0mplt\u001b[0m\u001b[0;34m.\u001b[0m\u001b[0mbar\u001b[0m\u001b[0;34m(\u001b[0m\u001b[0mnp\u001b[0m\u001b[0;34m.\u001b[0m\u001b[0marange\u001b[0m\u001b[0;34m(\u001b[0m\u001b[0mdata1_test_norm\u001b[0m\u001b[0;34m[\u001b[0m\u001b[0mk\u001b[0m\u001b[0;34m]\u001b[0m\u001b[0;34m.\u001b[0m\u001b[0msize\u001b[0m\u001b[0;34m)\u001b[0m\u001b[0;34m,\u001b[0m \u001b[0mdata1_test_norm\u001b[0m\u001b[0;34m[\u001b[0m\u001b[0mk\u001b[0m\u001b[0;34m]\u001b[0m\u001b[0;34m,\u001b[0m \u001b[0mcolor\u001b[0m\u001b[0;34m=\u001b[0m\u001b[0;34m'#888888'\u001b[0m\u001b[0;34m)\u001b[0m\u001b[0;34m\u001b[0m\u001b[0m\n",
      "\u001b[0;32m~/anaconda3/envs/ptfind/lib/python3.6/site-packages/matplotlib/pyplot.py\u001b[0m in \u001b[0;36msubplot\u001b[0;34m(*args, **kwargs)\u001b[0m\n\u001b[1;32m   1070\u001b[0m \u001b[0;34m\u001b[0m\u001b[0m\n\u001b[1;32m   1071\u001b[0m     \u001b[0mfig\u001b[0m \u001b[0;34m=\u001b[0m \u001b[0mgcf\u001b[0m\u001b[0;34m(\u001b[0m\u001b[0;34m)\u001b[0m\u001b[0;34m\u001b[0m\u001b[0m\n\u001b[0;32m-> 1072\u001b[0;31m     \u001b[0ma\u001b[0m \u001b[0;34m=\u001b[0m \u001b[0mfig\u001b[0m\u001b[0;34m.\u001b[0m\u001b[0madd_subplot\u001b[0m\u001b[0;34m(\u001b[0m\u001b[0;34m*\u001b[0m\u001b[0margs\u001b[0m\u001b[0;34m,\u001b[0m \u001b[0;34m**\u001b[0m\u001b[0mkwargs\u001b[0m\u001b[0;34m)\u001b[0m\u001b[0;34m\u001b[0m\u001b[0m\n\u001b[0m\u001b[1;32m   1073\u001b[0m     \u001b[0mbbox\u001b[0m \u001b[0;34m=\u001b[0m \u001b[0ma\u001b[0m\u001b[0;34m.\u001b[0m\u001b[0mbbox\u001b[0m\u001b[0;34m\u001b[0m\u001b[0m\n\u001b[1;32m   1074\u001b[0m     \u001b[0mbyebye\u001b[0m \u001b[0;34m=\u001b[0m \u001b[0;34m[\u001b[0m\u001b[0;34m]\u001b[0m\u001b[0;34m\u001b[0m\u001b[0m\n",
      "\u001b[0;32m~/anaconda3/envs/ptfind/lib/python3.6/site-packages/matplotlib/figure.py\u001b[0m in \u001b[0;36madd_subplot\u001b[0;34m(self, *args, **kwargs)\u001b[0m\n\u001b[1;32m   1237\u001b[0m                     \u001b[0mself\u001b[0m\u001b[0;34m.\u001b[0m\u001b[0m_axstack\u001b[0m\u001b[0;34m.\u001b[0m\u001b[0mremove\u001b[0m\u001b[0;34m(\u001b[0m\u001b[0max\u001b[0m\u001b[0;34m)\u001b[0m\u001b[0;34m\u001b[0m\u001b[0m\n\u001b[1;32m   1238\u001b[0m \u001b[0;34m\u001b[0m\u001b[0m\n\u001b[0;32m-> 1239\u001b[0;31m             \u001b[0ma\u001b[0m \u001b[0;34m=\u001b[0m \u001b[0msubplot_class_factory\u001b[0m\u001b[0;34m(\u001b[0m\u001b[0mprojection_class\u001b[0m\u001b[0;34m)\u001b[0m\u001b[0;34m(\u001b[0m\u001b[0mself\u001b[0m\u001b[0;34m,\u001b[0m \u001b[0;34m*\u001b[0m\u001b[0margs\u001b[0m\u001b[0;34m,\u001b[0m \u001b[0;34m**\u001b[0m\u001b[0mkwargs\u001b[0m\u001b[0;34m)\u001b[0m\u001b[0;34m\u001b[0m\u001b[0m\n\u001b[0m\u001b[1;32m   1240\u001b[0m         \u001b[0mself\u001b[0m\u001b[0;34m.\u001b[0m\u001b[0m_axstack\u001b[0m\u001b[0;34m.\u001b[0m\u001b[0madd\u001b[0m\u001b[0;34m(\u001b[0m\u001b[0mkey\u001b[0m\u001b[0;34m,\u001b[0m \u001b[0ma\u001b[0m\u001b[0;34m)\u001b[0m\u001b[0;34m\u001b[0m\u001b[0m\n\u001b[1;32m   1241\u001b[0m         \u001b[0mself\u001b[0m\u001b[0;34m.\u001b[0m\u001b[0msca\u001b[0m\u001b[0;34m(\u001b[0m\u001b[0ma\u001b[0m\u001b[0;34m)\u001b[0m\u001b[0;34m\u001b[0m\u001b[0m\n",
      "\u001b[0;32m~/anaconda3/envs/ptfind/lib/python3.6/site-packages/matplotlib/axes/_subplots.py\u001b[0m in \u001b[0;36m__init__\u001b[0;34m(self, fig, *args, **kwargs)\u001b[0m\n\u001b[1;32m     65\u001b[0m                     raise ValueError(\n\u001b[1;32m     66\u001b[0m                         (\"num must be 1 <= num <= {maxn}, not {num}\"\n\u001b[0;32m---> 67\u001b[0;31m                         ).format(maxn=rows*cols, num=num))\n\u001b[0m\u001b[1;32m     68\u001b[0m                 self._subplotspec = GridSpec(\n\u001b[1;32m     69\u001b[0m                         rows, cols, figure=self.figure)[int(num) - 1]\n",
      "\u001b[0;31mValueError\u001b[0m: num must be 1 <= num <= 24, not 25"
     ]
    },
    {
     "data": {
      "image/png": "[encoded data removed]",
      "text/plain": [
       "<Figure size 1440x1728 with 24 Axes>"
      ]
     },
     "metadata": {},
     "output_type": "display_data"
    }
   ],
   "source": [
    "cmap = plt.get_cmap('tab10')\n",
    "\n",
    "num_setups = 2\n",
    "n = 8\n",
    "offset = 5920\n",
    "offset = 5114\n",
    "offset = 5335\n",
    "offset = 7050\n",
    "\n",
    "offset_new = 6576\n",
    "\n",
    "ymax = 1.0\n",
    "\n",
    "plt.figure(figsize=(20, n * (num_setups + 2) * 0.75))\n",
    "for i in range(n):\n",
    "    k = i + offset\n",
    "    \n",
    "    # display original\n",
    "    ax = plt.subplot(n * (num_setups + 1), 1, i * (num_setups + 2) + 1)\n",
    "    ax.set_facecolor('#ffffff')\n",
    "    plt.bar(np.arange(data1_test_norm[k].size), data1_test_norm[k], color='#888888')\n",
    "    plt.ylim(0, ymax)\n",
    "    ax.get_xaxis().set_visible(False)\n",
    "    \n",
    "    # display reconstruction\n",
    "    ax = plt.subplot(n * (num_setups + 1), 1, i * (num_setups + 2) + 2)\n",
    "    plt.bar(np.arange(predicteds[0][k].size), predicteds[0][k], color=cmap(0))\n",
    "    plt.ylim(0, ymax)\n",
    "    ax.get_xaxis().set_visible(False)\n",
    "    \n",
    "    # display original\n",
    "    ax = plt.subplot(n * (num_setups + 1), 1, i * (num_setups + 2) + 3)\n",
    "    ax.set_facecolor('#ffffff')\n",
    "    plt.bar(np.arange(data2_test_norm[k].size), data2_test_norm[k], color='#888888')\n",
    "    plt.ylim(0, ymax)\n",
    "    ax.get_xaxis().set_visible(False)\n",
    "    \n",
    "    # display reconstruction\n",
    "    ax = plt.subplot(n * (num_setups + 1), 1, i * (num_setups + 2) + 4)\n",
    "    plt.bar(np.arange(predicteds[1][k].size), predicteds[1][k], color=cmap(0))\n",
    "    plt.ylim(0, ymax)\n",
    "    ax.get_xaxis().set_visible(False)\n",
    "plt.show()"
   ]
  },
  {
   "cell_type": "code",
   "execution_count": null,
   "metadata": {},
   "outputs": [],
   "source": []
  }
 ],
 "metadata": {
  "kernelspec": {
   "display_name": "Python 3",
   "language": "python",
   "name": "python3"
  },
  "language_info": {
   "codemirror_mode": {
    "name": "ipython",
    "version": 3
   },
   "file_extension": ".py",
   "mimetype": "text/x-python",
   "name": "python",
   "nbconvert_exporter": "python",
   "pygments_lexer": "ipython3",
   "version": "3.6.6"
  }
 },
 "nbformat": 4,
 "nbformat_minor": 2
}
