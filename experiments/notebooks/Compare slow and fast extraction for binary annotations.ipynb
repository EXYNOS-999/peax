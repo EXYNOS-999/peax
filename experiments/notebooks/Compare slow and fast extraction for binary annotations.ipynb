{
 "cells": [
  {
   "cell_type": "markdown",
   "metadata": {},
   "source": [
    "# Compare fast and slow extraction of binary annotations"
   ]
  },
  {
   "cell_type": "code",
   "execution_count": 1,
   "metadata": {},
   "outputs": [],
   "source": [
    "%load_ext autoreload\n",
    "%autoreload 2\n",
    "%matplotlib inline"
   ]
  },
  {
   "cell_type": "code",
   "execution_count": 3,
   "metadata": {},
   "outputs": [],
   "source": [
    "import numpy as np\n",
    "import os\n",
    "import sys\n",
    "import warnings\n",
    "warnings.filterwarnings('ignore')\n",
    "\n",
    "module_path = os.path.abspath(os.path.join('..'))\n",
    "if module_path not in sys.path:\n",
    "    sys.path.append(module_path)\n",
    "\n",
    "window_size = 12000\n",
    "step_freq = 2\n",
    "resolution = 100\n",
    "\n",
    "chroms = [\n",
    "  'chr1', 'chr2', 'chr3', 'chr4', 'chr5', 'chr6', 'chr7', 'chr8', 'chr9', 'chr10',\n",
    "  'chr11', 'chr12', 'chr13', 'chr14', 'chr15', 'chr16', 'chr17', 'chr18', 'chr19',\n",
    "  'chr20', 'chr21', 'chr22', 'chrX', 'chrY'\n",
    "]\n",
    "\n",
    "step_size = window_size // step_freq\n",
    "bins_per_window = window_size // resolution"
   ]
  },
  {
   "cell_type": "markdown",
   "metadata": {},
   "source": [
    "### Download data"
   ]
  },
  {
   "cell_type": "code",
   "execution_count": 4,
   "metadata": {},
   "outputs": [
    {
     "name": "stdout",
     "output_type": "stream",
     "text": [
      "Download data... done!\n"
     ]
    }
   ],
   "source": [
    "import wget\n",
    "from pathlib import Path\n",
    "\n",
    "Path('data').mkdir(parents=True, exist_ok=True) \n",
    "\n",
    "print('Download data.', end='', flush=True)\n",
    "\n",
    "# GM12878 DNase-seq read-depth normalized signal\n",
    "bw = 'data/ENCFF158GBQ.bigWig'\n",
    "if not Path(bw).is_file():\n",
    "    wget.download(\n",
    "        'https://www.encodeproject.org/files/ENCFF158GBQ/@@download/ENCFF158GBQ.bigWig',\n",
    "        'data/ENCFF158GBQ.bigWig',\n",
    "    )\n",
    "    \n",
    "print('.', end='', flush=True)\n",
    "    \n",
    "bb1 = 'data/ENCFF246MAX.bigBed'\n",
    "if not Path(bb1).is_file():\n",
    "    wget.download(\n",
    "        'https://www.encodeproject.org/files/ENCFF246MAX/@@download/ENCFF246MAX.bigBed',\n",
    "        'data/ENCFF246MAX.bigBed',\n",
    "    )\n",
    "    \n",
    "print('.', end='', flush=True)\n",
    "    \n",
    "bb2 = 'data/ENCFF541CUW.bigBed'\n",
    "if not Path(bb2).is_file():\n",
    "    wget.download(\n",
    "        'https://www.encodeproject.org/files/ENCFF541CUW/@@download/ENCFF541CUW.bigBed',\n",
    "        'data/ENCFF541CUW.bigBed',\n",
    "    )\n",
    "\n",
    "print(' done!')"
   ]
  },
  {
   "cell_type": "markdown",
   "metadata": {},
   "source": [
    "### Fast extraction of binary annotations"
   ]
  },
  {
   "cell_type": "code",
   "execution_count": 5,
   "metadata": {},
   "outputs": [
    {
     "name": "stderr",
     "output_type": "stream",
     "text": [
      "Using TensorFlow backend.\n"
     ]
    },
    {
     "name": "stdout",
     "output_type": "stream",
     "text": [
      "Extract narrow peak windows...\n",
      "Extracted 41541 windows from chr1 with a max value of 1.0.\n",
      "Extracted 40533 windows from chr2 with a max value of 1.0.\n",
      "Extracted 33003 windows from chr3 with a max value of 1.0.\n",
      "Extracted 31859 windows from chr4 with a max value of 1.0.\n",
      "Extracted 30152 windows from chr5 with a max value of 1.0.\n",
      "Extracted 28519 windows from chr6 with a max value of 1.0.\n",
      "Extracted 26523 windows from chr7 with a max value of 1.0.\n",
      "Extracted 24394 windows from chr8 with a max value of 1.0.\n",
      "Extracted 23535 windows from chr9 with a max value of 1.0.\n",
      "Extracted 22589 windows from chr10 with a max value of 1.0.\n",
      "Extracted 22501 windows from chr11 with a max value of 1.0.\n",
      "Extracted 22308 windows from chr12 with a max value of 1.0.\n",
      "Extracted 19194 windows from chr13 with a max value of 1.0.\n",
      "Extracted 17891 windows from chr14 with a max value of 1.0.\n",
      "Extracted 17088 windows from chr15 with a max value of 1.0.\n",
      "Extracted 15059 windows from chr16 with a max value of 1.0.\n",
      "Extracted 13532 windows from chr17 with a max value of 1.0.\n",
      "Extracted 13012 windows from chr18 with a max value of 1.0.\n",
      "Extracted 9854 windows from chr19 with a max value of 1.0.\n",
      "Extracted 10504 windows from chr20 with a max value of 1.0.\n",
      "Extracted 8021 windows from chr21 with a max value of 1.0.\n",
      "Extracted 8550 windows from chr22 with a max value of 1.0.\n",
      "Extracted 25878 windows from chrX with a max value of 1.0.\n",
      "Extracted 9895 windows from chrY with a max value of 1.0.\n",
      "\n",
      "Extract broad peak windows...\n",
      "Extracted 41541 windows from chr1 with a max value of 1.0.\n",
      "Extracted 40533 windows from chr2 with a max value of 1.0.\n",
      "Extracted 33003 windows from chr3 with a max value of 1.0.\n",
      "Extracted 31859 windows from chr4 with a max value of 1.0.\n",
      "Extracted 30152 windows from chr5 with a max value of 1.0.\n",
      "Extracted 28519 windows from chr6 with a max value of 1.0.\n",
      "Extracted 26523 windows from chr7 with a max value of 1.0.\n",
      "Extracted 24394 windows from chr8 with a max value of 1.0.\n",
      "Extracted 23535 windows from chr9 with a max value of 1.0.\n",
      "Extracted 22589 windows from chr10 with a max value of 1.0.\n",
      "Extracted 22501 windows from chr11 with a max value of 1.0.\n",
      "Extracted 22308 windows from chr12 with a max value of 1.0.\n",
      "Extracted 19194 windows from chr13 with a max value of 1.0.\n",
      "Extracted 17891 windows from chr14 with a max value of 1.0.\n",
      "Extracted 17088 windows from chr15 with a max value of 1.0.\n",
      "Extracted 15059 windows from chr16 with a max value of 1.0.\n",
      "Extracted 13532 windows from chr17 with a max value of 1.0.\n",
      "Extracted 13012 windows from chr18 with a max value of 1.0.\n",
      "Extracted 9854 windows from chr19 with a max value of 1.0.\n",
      "Extracted 10504 windows from chr20 with a max value of 1.0.\n",
      "Extracted 8021 windows from chr21 with a max value of 1.0.\n",
      "Extracted 8550 windows from chr22 with a max value of 1.0.\n",
      "Extracted 25878 windows from chrX with a max value of 1.0.\n",
      "Extracted 9895 windows from chrY with a max value of 1.0.\n",
      "Done!\n",
      "Took 1.37 seconds\n"
     ]
    }
   ],
   "source": [
    "from ae import utils\n",
    "import time\n",
    "\n",
    "start_time = time.time()\n",
    "\n",
    "print('Extract narrow peak windows...')\n",
    "\n",
    "narrow_peaks1 = utils.chunk_beds_binary(\n",
    "    bb1,\n",
    "    window_size,\n",
    "    step_size,\n",
    "    chroms,\n",
    "    verbose=True,\n",
    ")\n",
    "\n",
    "print('\\nExtract broad peak windows...')\n",
    "\n",
    "broad_peaks1 = utils.chunk_beds_binary(\n",
    "    bb2,\n",
    "    window_size,\n",
    "    step_size,\n",
    "    chroms,\n",
    "    verbose=True,\n",
    ")\n",
    "\n",
    "print('Done!')\n",
    "\n",
    "end_time = time.time()\n",
    "\n",
    "print('Took {0:.2f} seconds'.format(end_time - start_time))"
   ]
  },
  {
   "cell_type": "markdown",
   "metadata": {},
   "source": [
    "### Slow extraction"
   ]
  },
  {
   "cell_type": "code",
   "execution_count": 7,
   "metadata": {},
   "outputs": [
    {
     "name": "stdout",
     "output_type": "stream",
     "text": [
      "Extract narrow peak windows...\n",
      "Extracted 41541 windows from chr1 with a max value of 1.0.\n",
      "Extracted 40533 windows from chr2 with a max value of 1.0.\n",
      "Extracted 33003 windows from chr3 with a max value of 1.0.\n",
      "Extracted 31859 windows from chr4 with a max value of 1.0.\n",
      "Extracted 30152 windows from chr5 with a max value of 1.0.\n",
      "Extracted 28519 windows from chr6 with a max value of 1.0.\n",
      "Extracted 26523 windows from chr7 with a max value of 1.0.\n",
      "Extracted 24394 windows from chr8 with a max value of 1.0.\n",
      "Extracted 23535 windows from chr9 with a max value of 1.0.\n",
      "Extracted 22589 windows from chr10 with a max value of 1.0.\n",
      "Extracted 22501 windows from chr11 with a max value of 1.0.\n",
      "Extracted 22308 windows from chr12 with a max value of 1.0.\n",
      "Extracted 19194 windows from chr13 with a max value of 1.0.\n",
      "Extracted 17891 windows from chr14 with a max value of 1.0.\n",
      "Extracted 17088 windows from chr15 with a max value of 1.0.\n",
      "Extracted 15059 windows from chr16 with a max value of 1.0.\n",
      "Extracted 13532 windows from chr17 with a max value of 1.0.\n",
      "Extracted 13012 windows from chr18 with a max value of 1.0.\n",
      "Extracted 9854 windows from chr19 with a max value of 1.0.\n",
      "Extracted 10504 windows from chr20 with a max value of 1.0.\n",
      "Extracted 8021 windows from chr21 with a max value of 1.0.\n",
      "Extracted 8550 windows from chr22 with a max value of 1.0.\n",
      "Extracted 25878 windows from chrX with a max value of 1.0.\n",
      "Extracted 9895 windows from chrY with a max value of 1.0.\n",
      "Extract broad peak windows...\n",
      "Extracted 41541 windows from chr1 with a max value of 1.0.\n",
      "Extracted 40533 windows from chr2 with a max value of 1.0.\n",
      "Extracted 33003 windows from chr3 with a max value of 1.0.\n",
      "Extracted 31859 windows from chr4 with a max value of 1.0.\n",
      "Extracted 30152 windows from chr5 with a max value of 1.0.\n",
      "Extracted 28519 windows from chr6 with a max value of 1.0.\n",
      "Extracted 26523 windows from chr7 with a max value of 1.0.\n",
      "Extracted 24394 windows from chr8 with a max value of 1.0.\n",
      "Extracted 23535 windows from chr9 with a max value of 1.0.\n",
      "Extracted 22589 windows from chr10 with a max value of 1.0.\n",
      "Extracted 22501 windows from chr11 with a max value of 1.0.\n",
      "Extracted 22308 windows from chr12 with a max value of 1.0.\n",
      "Extracted 19194 windows from chr13 with a max value of 1.0.\n",
      "Extracted 17891 windows from chr14 with a max value of 1.0.\n",
      "Extracted 17088 windows from chr15 with a max value of 1.0.\n",
      "Extracted 15059 windows from chr16 with a max value of 1.0.\n",
      "Extracted 13532 windows from chr17 with a max value of 1.0.\n",
      "Extracted 13012 windows from chr18 with a max value of 1.0.\n",
      "Extracted 9854 windows from chr19 with a max value of 1.0.\n",
      "Extracted 10504 windows from chr20 with a max value of 1.0.\n",
      "Extracted 8021 windows from chr21 with a max value of 1.0.\n",
      "Extracted 8550 windows from chr22 with a max value of 1.0.\n",
      "Extracted 25878 windows from chrX with a max value of 1.0.\n",
      "Extracted 9895 windows from chrY with a max value of 1.0.\n",
      "Done!\n",
      "Took 249.18731093406677\n"
     ]
    }
   ],
   "source": [
    "from server import bigwig\n",
    "import time\n",
    "\n",
    "start_time = time.time()\n",
    "\n",
    "print('Extract narrow peak windows...')\n",
    "narrow_peaks2 = bigwig.chunk(bb1, window_size, window_size, step_size, chroms, verbose=True)\n",
    "print('Extract broad peak windows...')\n",
    "broad_peaks2 = bigwig.chunk(bb2, window_size, window_size, step_size, chroms, verbose=True)\n",
    "print('Done!')\n",
    "\n",
    "end_time = time.time()\n",
    "\n",
    "print('Took {}'.format(end_time - start_time))"
   ]
  },
  {
   "cell_type": "markdown",
   "metadata": {},
   "source": [
    "### Compare both extraction methods\n",
    "\n",
    "There should only be a handful of few inconsistencies due to some averaging glitches (I believe)|"
   ]
  },
  {
   "cell_type": "code",
   "execution_count": 14,
   "metadata": {},
   "outputs": [
    {
     "name": "stdout",
     "output_type": "stream",
     "text": [
      "119374 [0] [1.]\n",
      "186107 [0] [1.]\n",
      "256933 [0] [1.]\n",
      "323208 [0] [1.]\n",
      "443107 [0] [1.]\n",
      "Found 5 differences between narrow peaks! The arrays equal: False (515935, 1) (515935, 1)\n"
     ]
    }
   ],
   "source": [
    "diff = 0\n",
    "k = 0\n",
    "for i in np.arange(narrow_peaks1.shape[0]):\n",
    "    if narrow_peaks1[i] != narrow_peaks2[i]:\n",
    "        diff += 1\n",
    "        if k < 10:\n",
    "            print(i, narrow_peaks1[i], narrow_peaks2[i])\n",
    "        k += 1\n",
    "\n",
    "print(\n",
    "    'Found {} differences between narrow peaks!'.format(diff),\n",
    "    'The arrays equal: {}'.format(np.array_equal(narrow_peaks1, narrow_peaks2)),\n",
    "    narrow_peaks1.shape,\n",
    "    narrow_peaks2.shape\n",
    ")"
   ]
  },
  {
   "cell_type": "code",
   "execution_count": 15,
   "metadata": {},
   "outputs": [
    {
     "name": "stdout",
     "output_type": "stream",
     "text": [
      "1797 [0] [1.]\n",
      "7464 [0] [1.]\n",
      "14382 [0] [1.]\n",
      "49260 [0] [1.]\n",
      "66306 [0] [1.]\n",
      "69653 [0] [1.]\n",
      "76146 [0] [1.]\n",
      "82148 [0] [1.]\n",
      "104558 [0] [1.]\n",
      "114489 [0] [1.]\n",
      "Found 35 differences between broad peaks! The arrays equal: False (515935, 1) (515935, 1)\n"
     ]
    }
   ],
   "source": [
    "diff = 0\n",
    "k = 0\n",
    "for i in np.arange(broad_peaks1.shape[0]):\n",
    "    if broad_peaks1[i] != broad_peaks2[i]:\n",
    "        diff += 1\n",
    "        if k < 10:\n",
    "            print(i, broad_peaks1[i], broad_peaks2[i])\n",
    "        k += 1\n",
    "\n",
    "print(\n",
    "    'Found {} differences between broad peaks!'.format(diff),\n",
    "    'The arrays equal: {}'.format(np.array_equal(broad_peaks1, broad_peaks2)),\n",
    "    broad_peaks1.shape,\n",
    "    broad_peaks2.shape\n",
    ")"
   ]
  },
  {
   "cell_type": "code",
   "execution_count": null,
   "metadata": {},
   "outputs": [],
   "source": []
  }
 ],
 "metadata": {
  "kernelspec": {
   "display_name": "Python 3",
   "language": "python",
   "name": "python3"
  },
  "language_info": {
   "codemirror_mode": {
    "name": "ipython",
    "version": 3
   },
   "file_extension": ".py",
   "mimetype": "text/x-python",
   "name": "python",
   "nbconvert_exporter": "python",
   "pygments_lexer": "ipython3",
   "version": "3.6.7"
  }
 },
 "nbformat": 4,
 "nbformat_minor": 2
}
