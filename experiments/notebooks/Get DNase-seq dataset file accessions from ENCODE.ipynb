{
 "cells": [
  {
   "cell_type": "markdown",
   "metadata": {},
   "source": [
    "# Get DNase-seq dataset file accessions from ENCODE\n",
    "\n",
    "We're limiting our training on DNase-seq datasets as there are only a handful of ATAC-seq, MNase-seq, or FAIRE-seq experiments on ENCODE which provide the same data types (signal + peak annotations)"
   ]
  },
  {
   "cell_type": "code",
   "execution_count": 171,
   "metadata": {},
   "outputs": [],
   "source": [
    "%load_ext autoreload\n",
    "%autoreload 2\n",
    "%matplotlib inline"
   ]
  },
  {
   "cell_type": "markdown",
   "metadata": {},
   "source": [
    "#### Imports"
   ]
  },
  {
   "cell_type": "code",
   "execution_count": 218,
   "metadata": {},
   "outputs": [],
   "source": [
    "import io\n",
    "import json\n",
    "import numpy as np\n",
    "import pandas as pd\n",
    "import requests\n",
    "from urllib.parse import urlencode, urljoin"
   ]
  },
  {
   "cell_type": "markdown",
   "metadata": {},
   "source": [
    "## Search for experiments"
   ]
  },
  {
   "cell_type": "code",
   "execution_count": 169,
   "metadata": {},
   "outputs": [
    {
     "name": "stdout",
     "output_type": "stream",
     "text": [
      "Found 727 human DNase-seq experiments\n"
     ]
    }
   ],
   "source": [
    "assay_type = 'DNase-seq'\n",
    "params = {\n",
    "    'type': 'Experiment',\n",
    "    'status': 'released',\n",
    "    'assay_slims': 'DNA+accessibility',\n",
    "    'replicates.library.biosample.donor.organism.scientific_name': 'Homo+sapiens',\n",
    "    'assay_title': 'DNase-seq',\n",
    "    'limit': 'all',\n",
    "    'format': 'json',\n",
    "}\n",
    "param_str = urlencode(params, doseq=True).replace('%2B', '+')\n",
    "url = 'https://www.encodeproject.org/search/'\n",
    "headers = {\n",
    "    'Accept': 'application/json',\n",
    "}\n",
    "\n",
    "response = requests.get(url, headers=headers, params=param_str).json()\n",
    "\n",
    "experiments = [x['accession'] for x in response['@graph']]\n",
    "\n",
    "assert len(experiments) == response['total'], 'Number of results should equal'\n",
    "\n",
    "print('Found {} human DNase-seq experiments'.format(len(experiments)))"
   ]
  },
  {
   "cell_type": "markdown",
   "metadata": {},
   "source": [
    "#### Selection"
   ]
  },
  {
   "cell_type": "code",
   "execution_count": 173,
   "metadata": {},
   "outputs": [],
   "source": [
    "selection = {\n",
    "    'type': 'Experiment',\n",
    "    'files.file_type': ['bigBed+broadPeak', 'bigBed+narrowPeak', 'bigWig'],\n",
    "}\n",
    "base_url = 'https://www.encodeproject.org/metadata'\n",
    "file_type = 'metadata.tsv'\n",
    "headers = {\n",
    "    'Accept': 'text/tsv',\n",
    "    'Content-Type': 'application/json'\n",
    "}"
   ]
  },
  {
   "cell_type": "markdown",
   "metadata": {},
   "source": [
    "#### Construct the URL and parameters"
   ]
  },
  {
   "cell_type": "code",
   "execution_count": 174,
   "metadata": {},
   "outputs": [],
   "source": [
    "selection_path = urlencode(selection, doseq=True).replace('%2B', '+')\n",
    "url = '/'.join([base_url, selection_path, file_type])\n",
    "data = {\n",
    "    'elements': ['/experiments/{}/'.format(e) for e in experiments]\n",
    "}"
   ]
  },
  {
   "cell_type": "markdown",
   "metadata": {},
   "source": [
    "#### Execute and parse the request"
   ]
  },
  {
   "cell_type": "code",
   "execution_count": 175,
   "metadata": {},
   "outputs": [],
   "source": [
    "urlData = requests.get(url, headers=headers, json=data).content\n",
    "metaData = pd.read_csv(io.StringIO(urlData.decode('utf-8')), sep='\\t')"
   ]
  },
  {
   "cell_type": "code",
   "execution_count": 176,
   "metadata": {},
   "outputs": [
    {
     "name": "stdout",
     "output_type": "stream",
     "text": [
      "peaks bigBed narrowPeak\n",
      "hotspots bigBed broadPeak\n",
      "read-depth normalized signal bigWig\n",
      "base overlap signal bigWig\n",
      "signal bigWig\n",
      "signal of unique reads bigWig\n",
      "raw signal bigWig\n"
     ]
    }
   ],
   "source": [
    "outputTypes = metaData['Output type'].unique()\n",
    "\n",
    "for outputType in outputTypes:\n",
    "    print(outputType, metaData[metaData['Output type'] == outputType]['File format'].unique()[0])"
   ]
  },
  {
   "cell_type": "code",
   "execution_count": 177,
   "metadata": {},
   "outputs": [],
   "source": [
    "is_grch38 = metaData['Assembly'] == 'GRCh38'\n",
    "is_released = metaData['File Status'] == 'released'\n",
    "is_dnase_seq = metaData['Assay'] == 'DNase-seq'\n",
    "is_rdn_signal = metaData['Output type'] == 'read-depth normalized signal'\n",
    "is_narrow_peaks = metaData['Output type'] == 'peaks'\n",
    "is_broad_peaks = metaData['Output type'] == 'hotspots'"
   ]
  },
  {
   "cell_type": "code",
   "execution_count": 216,
   "metadata": {},
   "outputs": [
    {
     "name": "stdout",
     "output_type": "stream",
     "text": [
      "Found 706 experiments comprising 706 datasets\n"
     ]
    }
   ],
   "source": [
    "datasets = {}\n",
    "use_only_one_bio_replicate = True\n",
    "\n",
    "k = 0\n",
    "for exp in metaData.loc[is_grch38 & is_released & is_dnase_seq]['Experiment accession'].unique():\n",
    "    is_exp = is_grch38 & is_released & is_dnase_seq & (metaData['Experiment accession'] == exp)\n",
    "    \n",
    "    for sample in metaData.loc[is_grch38 & is_released & is_exp]['Biological replicate(s)'].unique():\n",
    "        is_sample = is_exp & (metaData['Biological replicate(s)'] == sample)\n",
    "        \n",
    "        data_rdn_signal = metaData.loc[is_sample & is_rdn_signal]\n",
    "        data_narrow_peaks = metaData.loc[is_sample & is_narrow_peaks]\n",
    "        data_broad_peaks = metaData.loc[is_sample & is_broad_peaks]\n",
    "        \n",
    "        try:\n",
    "            if exp not in datasets:\n",
    "                datasets[exp] = {}\n",
    "            else:\n",
    "                if use_only_one_bio_replicate:\n",
    "                    continue\n",
    "\n",
    "            datasets[exp][sample] = {\n",
    "                'rdn_signal': data_rdn_signal.iloc[0]['File accession'],\n",
    "                'narrow_peaks': data_narrow_peaks.iloc[0]['File accession'],\n",
    "                'broad_peaks': data_broad_peaks.iloc[0]['File accession'],\n",
    "            }\n",
    "        \n",
    "        except IndexError:\n",
    "            k += 1\n",
    "            if exp in datasets:\n",
    "                # Remove the key in case there exist another replicate which has all data types\n",
    "                del datasets[exp]\n",
    "\n",
    "dnum = [ds for exp in datasets for ds in datasets[exp]]\n",
    "print('Found {} experiments comprising {} datasets'.format(len(datasets.keys()), len(dnum)))"
   ]
  },
  {
   "cell_type": "markdown",
   "metadata": {},
   "source": [
    "#### Save JSON"
   ]
  },
  {
   "cell_type": "code",
   "execution_count": 219,
   "metadata": {},
   "outputs": [],
   "source": [
    "with open('datasets-dnase-grch38.json'.format(), 'w') as f:\n",
    "    json.dump(data, f)"
   ]
  },
  {
   "cell_type": "code",
   "execution_count": null,
   "metadata": {},
   "outputs": [],
   "source": []
  }
 ],
 "metadata": {
  "kernelspec": {
   "display_name": "Python 3",
   "language": "python",
   "name": "python3"
  },
  "language_info": {
   "codemirror_mode": {
    "name": "ipython",
    "version": 3
   },
   "file_extension": ".py",
   "mimetype": "text/x-python",
   "name": "python",
   "nbconvert_exporter": "python",
   "pygments_lexer": "ipython3",
   "version": "3.6.7"
  }
 },
 "nbformat": 4,
 "nbformat_minor": 2
}
