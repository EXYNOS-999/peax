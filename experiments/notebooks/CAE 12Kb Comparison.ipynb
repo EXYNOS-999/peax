{
 "cells": [
  {
   "cell_type": "markdown",
   "metadata": {},
   "source": [
    "# 1D CNN-based AEs (CAE) for 12Kb windows\n",
    "\n",
    "In the notebook I am comparing three different CAE architectures"
   ]
  },
  {
   "cell_type": "code",
   "execution_count": 1,
   "metadata": {},
   "outputs": [],
   "source": [
    "%load_ext autoreload\n",
    "%autoreload 2\n",
    "%matplotlib inline"
   ]
  },
  {
   "cell_type": "code",
   "execution_count": 10,
   "metadata": {},
   "outputs": [],
   "source": [
    "import numpy as np\n",
    "import os\n",
    "import sys\n",
    "import warnings\n",
    "warnings.filterwarnings('ignore')\n",
    "\n",
    "module_path = os.path.abspath(os.path.join('..'))\n",
    "if module_path not in sys.path:\n",
    "    sys.path.append(module_path)\n",
    "\n",
    "assembly = 'hg19'\n",
    "window_size = 12000\n",
    "step_size = window_size / 2\n",
    "aggregation = 100\n",
    "chroms = ['chr1', 'chr22']"
   ]
  },
  {
   "cell_type": "markdown",
   "metadata": {},
   "source": [
    "## Load and normalize the data\n",
    "\n",
    "#### Download dataset"
   ]
  },
  {
   "cell_type": "code",
   "execution_count": 11,
   "metadata": {},
   "outputs": [
    {
     "name": "stdout",
     "output_type": "stream",
     "text": [
      "Download data...\n",
      "Done!\n"
     ]
    }
   ],
   "source": [
    "import wget\n",
    "from pathlib import Path\n",
    "\n",
    "Path('data').mkdir(parents=True, exist_ok=True) \n",
    "\n",
    "print('Download data...')\n",
    "\n",
    "# GM12878 DNase-seq read-depth normalized signal\n",
    "bw = 'data/ENCFF158GBQ.bigWig'\n",
    "if not Path(bw).is_file():\n",
    "    wget.download(\n",
    "        'https://www.encodeproject.org/files/ENCFF158GBQ/@@download/ENCFF158GBQ.bigWig',\n",
    "        'data/ENCFF158GBQ.bigWig',\n",
    "    )\n",
    "\n",
    "print('Done!')"
   ]
  },
  {
   "cell_type": "markdown",
   "metadata": {},
   "source": [
    "#### Retrieved the binned genomic windows"
   ]
  },
  {
   "cell_type": "code",
   "execution_count": 12,
   "metadata": {},
   "outputs": [
    {
     "name": "stdout",
     "output_type": "stream",
     "text": [
      "Chrom: chr1 # win: 41541 Max:   84.65786437988281\n",
      "Chrom: chr22 # win: 8550 Max:   21.434190273284912\n"
     ]
    }
   ],
   "source": [
    "from ae import bigwig\n",
    "\n",
    "data_train, data_test = bigwig.chunk(\n",
    "    bw,\n",
    "    window_size,\n",
    "    step_size,\n",
    "    aggregation,\n",
    "    chroms,\n",
    "    verbose=True,\n",
    ")"
   ]
  },
  {
   "cell_type": "markdown",
   "metadata": {},
   "source": [
    "#### Cap data at the 99.9th percentile and normalize to `[0,1]`"
   ]
  },
  {
   "cell_type": "code",
   "execution_count": 13,
   "metadata": {},
   "outputs": [
    {
     "name": "stdout",
     "output_type": "stream",
     "text": [
      "Train Max: 1.621607506275177 Test Max:  2.0269706778862506\n"
     ]
    }
   ],
   "source": [
    "from sklearn.preprocessing import MinMaxScaler\n",
    "\n",
    "cutoff = np.percentile(data_train, (0, 99.9))\n",
    "data_train_norm = np.copy(data_train)\n",
    "data_train_norm[np.where(data_train_norm < cutoff[0])] = cutoff[0]\n",
    "data_train_norm[np.where(data_train_norm > cutoff[1])] = cutoff[1]\n",
    "\n",
    "cutoff = np.percentile(data_test, (0, 99.9))\n",
    "data_test_norm = np.copy(data_test)\n",
    "data_test_norm[np.where(data_test_norm < cutoff[0])] = cutoff[0]\n",
    "data_test_norm[np.where(data_test_norm > cutoff[1])] = cutoff[1]\n",
    "\n",
    "print(\n",
    "    'Train Max: {}'.format(np.max(data_train_norm)),\n",
    "    'Test Max:  {}'.format(np.max(data_test_norm)),\n",
    ")\n",
    "\n",
    "data_train_norm = MinMaxScaler().fit_transform(data_train_norm)\n",
    "data_test_norm = MinMaxScaler().fit_transform(data_test_norm)"
   ]
  },
  {
   "cell_type": "markdown",
   "metadata": {},
   "source": [
    "#### Filter out the gros of empty windows for the training data"
   ]
  },
  {
   "cell_type": "code",
   "execution_count": 22,
   "metadata": {},
   "outputs": [
    {
     "name": "stdout",
     "output_type": "stream",
     "text": [
      "20488 out of 41541 12Kb windows have at least a total signal of 3.\n"
     ]
    }
   ],
   "source": [
    "threshold = 3\n",
    "data_train_norm_filt = data_train_norm[np.where(np.sum(data_train_norm, axis=1) > threshold)]\n",
    "print('{} out of {} 12Kb windows have at least a total signal of {}.'.format(\n",
    "    data_train_norm_filt.shape[0],\n",
    "    data_train_norm.shape[0],\n",
    "    threshold\n",
    "))"
   ]
  },
  {
   "cell_type": "markdown",
   "metadata": {},
   "source": [
    "## Define different CAEs for comparison"
   ]
  },
  {
   "cell_type": "code",
   "execution_count": null,
   "metadata": {},
   "outputs": [],
   "source": [
    "# Load models"
   ]
  },
  {
   "cell_type": "code",
   "execution_count": 23,
   "metadata": {},
   "outputs": [],
   "source": [
    "# Building CAE\n",
    "\n",
    "from ae.cnn import cnn2\n",
    "\n",
    "encoder1, decoder1, autoencoder1 = cnn2(\n",
    "    (window_size // aggregation, 1),\n",
    "    filters=[32, 64, 128, 10],\n",
    "    kernel_sizes=[11, 7, 3],\n",
    "    summary=False,\n",
    "    dr=True\n",
    ")\n",
    "\n",
    "encoder2, decoder2, autoencoder2 = cnn2(\n",
    "    (window_size // aggregation, 1),\n",
    "    filters=[32, 64, 128, 6],\n",
    "    kernel_sizes=[11, 9, 5],\n",
    "    summary=False,\n",
    "    dr=True\n",
    ")\n",
    "\n",
    "encoder3, decoder3, autoencoder3 = cnn2(\n",
    "    (window_size // aggregation, 1),\n",
    "    filters=[32, 64, 128, 6],\n",
    "    kernel_sizes=[9, 5, 3],\n",
    "    summary=False,\n",
    "    dr=True\n",
    ")"
   ]
  },
  {
   "cell_type": "markdown",
   "metadata": {},
   "source": [
    "## Train the CAEs"
   ]
  },
  {
   "cell_type": "code",
   "execution_count": 25,
   "metadata": {},
   "outputs": [
    {
     "name": "stdout",
     "output_type": "stream",
     "text": [
      "Train on 20488 samples, validate on 8550 samples\n",
      "Epoch 1/1\n",
      "20488/20488 [==============================] - 26s 1ms/step - loss: 0.2511 - val_loss: 0.1266\n",
      "Train on 20488 samples, validate on 8550 samples\n",
      "Epoch 1/1\n",
      "20488/20488 [==============================] - 36s 2ms/step - loss: 0.2508 - val_loss: 0.1368\n",
      "Train on 20488 samples, validate on 8550 samples\n",
      "Epoch 1/1\n",
      "20488/20488 [==============================] - 26s 1ms/step - loss: 0.2530 - val_loss: 0.1326\n"
     ]
    },
    {
     "data": {
      "text/plain": [
       "<keras.callbacks.History at 0x1a68bb6e48>"
      ]
     },
     "execution_count": 25,
     "metadata": {},
     "output_type": "execute_result"
    }
   ],
   "source": [
    "from ae.utils import train\n",
    "\n",
    "epochs = 1\n",
    "batch_size = 256\n",
    "\n",
    "train(\n",
    "    autoencoder1,\n",
    "    data_train_norm_filt.reshape(data_train_norm_filt.shape[0], data_train_norm_filt.shape[1], 1),\n",
    "    data_test_norm.reshape(data_test_norm.shape[0], data_test_norm.shape[1], 1),\n",
    "    epochs=epochs,\n",
    "    batch_size=batch_size,\n",
    ")\n",
    "\n",
    "train(\n",
    "    autoencoder2,\n",
    "    data_train_norm_filt.reshape(data_train_norm_filt.shape[0], data_train_norm_filt.shape[1], 1),\n",
    "    data_test_norm.reshape(data_test_norm.shape[0], data_test_norm.shape[1], 1),\n",
    "    epochs=epochs,\n",
    "    batch_size=batch_size,\n",
    ")\n",
    "\n",
    "train(\n",
    "    autoencoder3,\n",
    "    data_train_norm_filt.reshape(data_train_norm_filt.shape[0], data_train_norm_filt.shape[1], 1),\n",
    "    data_test_norm.reshape(data_test_norm.shape[0], data_test_norm.shape[1], 1),\n",
    "    epochs=epochs,\n",
    "    batch_size=batch_size,\n",
    ")"
   ]
  },
  {
   "cell_type": "markdown",
   "metadata": {},
   "source": [
    "#### Save the models"
   ]
  },
  {
   "cell_type": "code",
   "execution_count": 7,
   "metadata": {},
   "outputs": [],
   "source": [
    "# encoder1.save('models/encode-gm12878-dnase-seq-2011-encoder-chr1-chr22-new-cnn.h5')\n",
    "# decoder1.save('models/encode-gm12878-dnase-seq-2011-decoder-chr1-chr22-new-cnn.h5')\n",
    "# autoencoder1.save('models/encode-gm12878-dnase-seq-2011-autoencoder-chr1-chr22-new-cnn.h5')"
   ]
  },
  {
   "cell_type": "markdown",
   "metadata": {},
   "source": [
    "## Predict encodings"
   ]
  },
  {
   "cell_type": "code",
   "execution_count": 28,
   "metadata": {},
   "outputs": [],
   "source": [
    "from keras.metrics import binary_crossentropy\n",
    "from ae.utils import predict\n",
    "\n",
    "predicted1, loss1, _ = predict(\n",
    "    encoder1,\n",
    "    decoder1,\n",
    "    data_test_norm.reshape(data_test_norm.shape[0], data_test_norm.shape[1], 1),\n",
    "    validator=binary_crossentropy\n",
    ")\n",
    "predicted1 = predicted1.reshape(predicted1.shape[0], predicted1.shape[1])\n",
    "\n",
    "predicted2, loss2, _ = predict(\n",
    "    encoder2,\n",
    "    decoder2,\n",
    "    data_test_norm.reshape(data_test_norm.shape[0], data_test_norm.shape[1], 1),\n",
    "    validator=binary_crossentropy\n",
    ")\n",
    "predicted2 = predicted2.reshape(predicted2.shape[0], predicted2.shape[1])\n",
    "\n",
    "predicted2, loss2, _ = predict(\n",
    "    encoder2,\n",
    "    decoder2,\n",
    "    data_test_norm.reshape(data_test_norm.shape[0], data_test_norm.shape[1], 1),\n",
    "    validator=binary_crossentropy\n",
    ")\n",
    "predicted2 = predicted2.reshape(predicted2.shape[0], predicted2.shape[1])"
   ]
  },
  {
   "cell_type": "markdown",
   "metadata": {},
   "source": [
    "## Visualize preditions"
   ]
  },
  {
   "cell_type": "code",
   "execution_count": 31,
   "metadata": {},
   "outputs": [
    {
     "data": {
      "image/png": "[encoded data removed]",
      "text/plain": [
       "<Figure size 1440x1440 with 24 Axes>"
      ]
     },
     "metadata": {},
     "output_type": "display_data"
    }
   ],
   "source": [
    "import matplotlib.pyplot as plt\n",
    "\n",
    "n = 8\n",
    "offset = 5920\n",
    "\n",
    "ymax = 0.5\n",
    "\n",
    "plt.figure(figsize=(20, 20))\n",
    "for i in range(n):\n",
    "    k = i + offset\n",
    "    \n",
    "    # display original\n",
    "    ax = plt.subplot(n * 3, 1, i * 3 + 1)\n",
    "    ax.set_facecolor('#EFF0FF')\n",
    "    plt.bar(np.arange(data_test_norm[k].size), data_test_norm[k], color='b')\n",
    "    plt.ylim(0, ymax)\n",
    "    ax.get_xaxis().set_visible(False)\n",
    "\n",
    "    # display reconstruction\n",
    "    ax = plt.subplot(n * 3, 1, i * 3 + 2)\n",
    "    ax.set_facecolor('#FFE9E6')\n",
    "    plt.bar(np.arange(predicted1[k].size), predicted1[k], color='r')\n",
    "    plt.ylim(0, ymax)\n",
    "    ax.get_xaxis().set_visible(False)\n",
    "\n",
    "    # display reconstruction\n",
    "    ax = plt.subplot(n * 3, 1, i * 3 + 3)\n",
    "    ax.set_facecolor('#FCFFD9')\n",
    "    plt.bar(np.arange(predicted2[k].size), predicted2[k], color='y')\n",
    "    plt.ylim(0, ymax)\n",
    "    ax.get_xaxis().set_visible(False)\n",
    "plt.show()"
   ]
  },
  {
   "cell_type": "markdown",
   "metadata": {},
   "source": [
    "#### Visualize the best and worse windows in terms of loss\n",
    "\n",
    "The top blueish plots show the best predictions and the redish ones at the bottom show the worse predictions. The ground truth is plotted semi-transparently in gray."
   ]
  },
  {
   "cell_type": "code",
   "execution_count": 41,
   "metadata": {},
   "outputs": [
    {
     "data": {
      "image/png": "[encoded data removed]",
      "text/plain": [
       "<Figure size 1440x720 with 12 Axes>"
      ]
     },
     "metadata": {},
     "output_type": "display_data"
    }
   ],
   "source": [
    "import matplotlib.pyplot as plt\n",
    "\n",
    "examples = 6\n",
    "n = examples * 2\n",
    "\n",
    "best_worst = np.argsort(loss1)\n",
    "best_worst = np.concatenate((best_worst[:examples], best_worst[-examples:]))\n",
    "\n",
    "plt.figure(figsize=(20, 10))\n",
    "for i, k in enumerate(best_worst):\n",
    "    ymax = np.max(data_test_norm[k])\n",
    "    \n",
    "    if i < examples:\n",
    "        ca = '#000000'\n",
    "        bgca = '#eff9ff'\n",
    "        cb = '#0015d6'\n",
    "    else:\n",
    "        ca = '#000000'\n",
    "        bgca = '#fff0e6'\n",
    "        cb = '#c12409'\n",
    "    \n",
    "    # display original\n",
    "    ax = plt.subplot(n, 1, i + 1)\n",
    "    ax.set_facecolor(bgca)\n",
    "    plt.bar(np.arange(data_test_norm[i].size), data_test_norm[k], color=ca, alpha=0.33)\n",
    "    plt.bar(np.arange(predicted1[k].size), predicted1[k], color=cb, alpha=0.66)\n",
    "    plt.ylim(0, 0.75)\n",
    "    ax.get_xaxis().set_visible(False)\n",
    "plt.show()"
   ]
  },
  {
   "cell_type": "code",
   "execution_count": null,
   "metadata": {},
   "outputs": [],
   "source": []
  }
 ],
 "metadata": {
  "kernelspec": {
   "display_name": "Python 3",
   "language": "python",
   "name": "python3"
  },
  "language_info": {
   "codemirror_mode": {
    "name": "ipython",
    "version": 3
   },
   "file_extension": ".py",
   "mimetype": "text/x-python",
   "name": "python",
   "nbconvert_exporter": "python",
   "pygments_lexer": "ipython3",
   "version": "3.6.6"
  }
 },
 "nbformat": 4,
 "nbformat_minor": 2
}
