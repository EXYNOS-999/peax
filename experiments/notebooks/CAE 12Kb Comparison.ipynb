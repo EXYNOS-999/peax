{
 "cells": [
  {
   "cell_type": "markdown",
   "metadata": {},
   "source": [
    "# 1D CNN-based AEs (CAE) for 12Kb windows\n",
    "\n",
    "In the notebook I am comparing three different CAE architectures"
   ]
  },
  {
   "cell_type": "code",
   "execution_count": 7,
   "metadata": {},
   "outputs": [],
   "source": [
    "%load_ext autoreload\n",
    "%autoreload 2\n",
    "%matplotlib inline"
   ]
  },
  {
   "cell_type": "code",
   "execution_count": 8,
   "metadata": {},
   "outputs": [],
   "source": [
    "import numpy as np\n",
    "import os\n",
    "import sys\n",
    "import warnings\n",
    "warnings.filterwarnings('ignore')\n",
    "\n",
    "module_path = os.path.abspath(os.path.join('..'))\n",
    "if module_path not in sys.path:\n",
    "    sys.path.append(module_path)\n",
    "\n",
    "assembly = 'hg19'\n",
    "window_size = 12000\n",
    "step_freq = 2\n",
    "resolution = 100\n",
    "test_ratio = 0.1\n",
    "chroms = [\n",
    "  'chr1', 'chr2', 'chr3', 'chr4', 'chr5', 'chr6', 'chr7', 'chr8', 'chr9', 'chr10',\n",
    "  'chr11', 'chr12', 'chr13', 'chr14', 'chr15', 'chr16', 'chr17', 'chr18', 'chr19',\n",
    "  'chr20', 'chr21', 'chr22', 'chrX', 'chrY'\n",
    "]\n",
    "chroms = ['chr22'] # testing only! comment out for real training\n",
    "rnd_seed = 123\n",
    "dev_set_size = 0.075 # i.e., 7.5% of all windows\n",
    "test_set_size = 0.075 # i.e., 7.5% of all windows\n",
    "\n",
    "step_size = window_size // step_freq\n",
    "bins_per_window = window_size // resolution"
   ]
  },
  {
   "cell_type": "markdown",
   "metadata": {},
   "source": [
    "## Load and normalize the data\n",
    "\n",
    "#### Download dataset"
   ]
  },
  {
   "cell_type": "code",
   "execution_count": 9,
   "metadata": {},
   "outputs": [
    {
     "name": "stdout",
     "output_type": "stream",
     "text": [
      "Download data... done!\n"
     ]
    }
   ],
   "source": [
    "import wget\n",
    "from pathlib import Path\n",
    "\n",
    "Path('data').mkdir(parents=True, exist_ok=True) \n",
    "\n",
    "print('Download data.', end='', flush=True)\n",
    "\n",
    "# GM12878 DNase-seq read-depth normalized signal\n",
    "bw = 'data/ENCFF158GBQ.bigWig'\n",
    "if not Path(bw).is_file():\n",
    "    wget.download(\n",
    "        'https://www.encodeproject.org/files/ENCFF158GBQ/@@download/ENCFF158GBQ.bigWig',\n",
    "        'data/ENCFF158GBQ.bigWig',\n",
    "    )\n",
    "    \n",
    "print('.', end='', flush=True)\n",
    "    \n",
    "bb1 = 'data/ENCFF246MAX.bigBed'\n",
    "if not Path(bb1).is_file():\n",
    "    wget.download(\n",
    "        'https://www.encodeproject.org/files/ENCFF246MAX/@@download/ENCFF246MAX.bigBed',\n",
    "        'data/ENCFF246MAX.bigBed',\n",
    "    )\n",
    "    \n",
    "print('.', end='', flush=True)\n",
    "    \n",
    "bb2 = 'data/ENCFF541CUW.bigBed'\n",
    "if not Path(bb2).is_file():\n",
    "    wget.download(\n",
    "        'https://www.encodeproject.org/files/ENCFF541CUW/@@download/ENCFF541CUW.bigBed',\n",
    "        'data/ENCFF541CUW.bigBed',\n",
    "    )\n",
    "\n",
    "print(' done!')"
   ]
  },
  {
   "cell_type": "markdown",
   "metadata": {},
   "source": [
    "#### Sanity check\n",
    "\n",
    "that all the previously defined chromosomes are available in the bigWig file"
   ]
  },
  {
   "cell_type": "code",
   "execution_count": 10,
   "metadata": {},
   "outputs": [],
   "source": [
    "from server import bigwig\n",
    "\n",
    "chrom_sizes_bw = bigwig.get_chromsizes(bw)\n",
    "chrom_sizes_bb1 = bigwig.get_chromsizes(bb1)\n",
    "chrom_sizes_bb2 = bigwig.get_chromsizes(bb2)\n",
    "\n",
    "# Sanity check\n",
    "for chrom in chroms:\n",
    "    if not chrom in chrom_sizes_bw:\n",
    "        print('WARNING: {} not found in {}!'.format(chrom, bw))\n",
    "    if not chrom in chrom_sizes_bb1:\n",
    "        print('WARNING: {} not found in {}!'.format(chrom, bb1))\n",
    "    if not chrom in chrom_sizes_bb2:\n",
    "        print('WARNING: {} not found in {}!'.format(chrom, bb2))"
   ]
  },
  {
   "cell_type": "markdown",
   "metadata": {},
   "source": [
    "#### Extract the binned genomic windows"
   ]
  },
  {
   "cell_type": "code",
   "execution_count": 11,
   "metadata": {},
   "outputs": [
    {
     "name": "stdout",
     "output_type": "stream",
     "text": [
      "Extract windows...\n",
      "Extracted 8550 windows from chr22 with a max value of 1.0.\n",
      "Done!\n"
     ]
    }
   ],
   "source": [
    "from server import bigwig\n",
    "\n",
    "print('Extract windows...')\n",
    "\n",
    "data = bigwig.chunk(\n",
    "    bw,\n",
    "    window_size,\n",
    "    resolution,\n",
    "    step_size,\n",
    "    chroms,\n",
    "    normalize=True,\n",
    "    verbose=True,\n",
    ")\n",
    "\n",
    "print('Done!')"
   ]
  },
  {
   "cell_type": "code",
   "execution_count": 14,
   "metadata": {},
   "outputs": [
    {
     "name": "stdout",
     "output_type": "stream",
     "text": [
      "2733 windows ar empty\n"
     ]
    },
    {
     "data": {
      "text/plain": [
       "<matplotlib.axes._subplots.AxesSubplot at 0x1178a0518>"
      ]
     },
     "execution_count": 14,
     "metadata": {},
     "output_type": "execute_result"
    },
    {
     "data": {
      "image/png": "[encoded data removed]",
      "text/plain": [
       "<Figure size 432x288 with 1 Axes>"
      ]
     },
     "metadata": {
      "needs_background": "light"
     },
     "output_type": "display_data"
    }
   ],
   "source": [
    "import seaborn as sns\n",
    "\n",
    "win_sum = np.sum(data, axis=1)\n",
    "print('{} windows are empty'.format(np.sum(win_sum == 0)))\n",
    "sns.distplot(win_sum)"
   ]
  },
  {
   "cell_type": "markdown",
   "metadata": {},
   "source": [
    "#### Balance windows\n",
    "\n",
    "Randomly filter out regions that are not annotated with (broad or narrow) peaks and that do not contain a lot of signal.\n",
    "\n",
    "First extract the peaks per window."
   ]
  },
  {
   "cell_type": "code",
   "execution_count": 13,
   "metadata": {},
   "outputs": [
    {
     "name": "stderr",
     "output_type": "stream",
     "text": [
      "Using TensorFlow backend.\n"
     ]
    },
    {
     "name": "stdout",
     "output_type": "stream",
     "text": [
      "Extract narrow peak windows...\n",
      "Extracted 8550 windows from chr22 with a max value of 1.0.\n",
      "\n",
      "Extract broad peak windows...\n",
      "Extracted 8550 windows from chr22 with a max value of 1.0.\n",
      "Done!\n",
      "Took 0.05 seconds\n"
     ]
    }
   ],
   "source": [
    "from ae import utils\n",
    "import time\n",
    "\n",
    "start_time = time.time()\n",
    "\n",
    "print('Extract narrow peak windows...')\n",
    "\n",
    "narrow_peaks = utils.chunk_beds_binary(\n",
    "    bb1,\n",
    "    window_size,\n",
    "    step_size,\n",
    "    chroms,\n",
    "    verbose=True,\n",
    ")\n",
    "\n",
    "print('\\nExtract broad peak windows...')\n",
    "\n",
    "broad_peaks = utils.chunk_beds_binary(\n",
    "    bb2,\n",
    "    window_size,\n",
    "    step_size,\n",
    "    chroms,\n",
    "    verbose=True,\n",
    ")\n",
    "\n",
    "print('Done!')\n",
    "\n",
    "end_time = time.time()\n",
    "\n",
    "print('Took {0:.2f} seconds'.format(end_time - start_time))"
   ]
  },
  {
   "cell_type": "markdown",
   "metadata": {},
   "source": [
    "Next filter out windows that do not contain any peaks and that only have weak signal."
   ]
  },
  {
   "cell_type": "code",
   "execution_count": 18,
   "metadata": {},
   "outputs": [
    {
     "name": "stdout",
     "output_type": "stream",
     "text": [
      "5817 out of 8550 12.0 kb windows are used for training.\n"
     ]
    }
   ],
   "source": [
    "win_with_narrow_or_broad_peaks = (narrow_peaks + broad_peaks).flatten()\n",
    "\n",
    "# Total signal per window\n",
    "win_sum = np.sum(data, axis=1)\n",
    "\n",
    "has_peaks = win_with_narrow_or_broad_peaks > 0\n",
    "no_peaks = win_with_narrow_or_broad_peaks == 0\n",
    "\n",
    "win_sum_has_peaks = win_sum[has_peaks] # Total signal per window of windows with peaks\n",
    "win_sum_no_peaks = win_sum[no_peaks] # Total signal per window of windows without peaks\n",
    "\n",
    "# Select all windows where the total signal is at least 25 percentile\n",
    "# of the windows containing at least 1 peak.\n",
    "win_sum_gt_25p = win_sum > np.percentile(win_sum[has_peaks], 25)\n",
    "win_sum_is_zero = win_sum == 0\n",
    "\n",
    "num_total_win = data.shape[0]\n",
    "\n",
    "pos_win = has_peaks | win_sum_gt_25p\n",
    "pos_win_no = np.arange(num_total_win)[pos_win]\n",
    "neg_not_empty_win = ~pos_win & ~win_sum_is_zero\n",
    "neg_not_empty_win_no = np.arange(num_total_win)[neg_not_empty_win]\n",
    "neg_empty_win = ~pos_win & win_sum_is_zero\n",
    "neg_empty_win_no = np.arange(num_total_win)[neg_empty_win]\n",
    "\n",
    "to_be_sampled = np.min(\n",
    "    [\n",
    "        # Do not sample more than the complete number of negative but non-empty\n",
    "        # windows\n",
    "        np.max([0, np.sum(neg_not_empty_win)]),\n",
    "        np.max(\n",
    "            [\n",
    "                # Sample at most half as many windows as windows with peak\n",
    "                # annotations. This is only necessary when there are few windows\n",
    "                # with annotated peaks but a lot of windows where the total signal\n",
    "                # is larger than 25-percentile of the total signal of windows with\n",
    "                # peaks\n",
    "                np.sum(has_peaks) * 0.5,\n",
    "                np.min([2 * np.sum(has_peaks) - np.sum(pos_win), np.sum(~pos_win)]),\n",
    "            ]\n",
    "        ),\n",
    "    ]\n",
    ").astype(int)\n",
    "to_be_sampled_not_empty = np.ceil(to_be_sampled * 0.95).astype(int)\n",
    "to_be_sampled_empty = to_be_sampled - to_be_sampled_not_empty\n",
    "\n",
    "neg_not_empty_win_no_subsample = np.random.choice(\n",
    "    neg_not_empty_win_no,\n",
    "    to_be_sampled_not_empty,\n",
    "    replace=False\n",
    ")\n",
    "\n",
    "neg_empty_win_no_subsample = np.random.choice(\n",
    "    neg_empty_win_no,\n",
    "    to_be_sampled_empty,\n",
    "    replace=False\n",
    ")\n",
    "\n",
    "selected_win = np.sort(\n",
    "    np.concatenate((pos_win_no, neg_not_empty_win_no_subsample, neg_empty_win_no_subsample))\n",
    ")\n",
    "\n",
    "# Most important: lets filter the actual windows\n",
    "data_filtered = data[selected_win]\n",
    "win_has_peaks_filtered = has_peaks[selected_win]\n",
    "\n",
    "print('{} out of {} {} kb windows are used for training.'.format(\n",
    "    data_filtered.shape[0],\n",
    "    data.shape[0],\n",
    "    window_size / 1000\n",
    "))"
   ]
  },
  {
   "cell_type": "markdown",
   "metadata": {},
   "source": [
    "#### Visualize the results of the filtering"
   ]
  },
  {
   "cell_type": "code",
   "execution_count": 19,
   "metadata": {},
   "outputs": [
    {
     "data": {
      "text/plain": [
       "<matplotlib.legend.Legend at 0x124e12b38>"
      ]
     },
     "execution_count": 19,
     "metadata": {},
     "output_type": "execute_result"
    },
    {
     "data": {
      "image/png": "[encoded data removed]",
      "text/plain": [
       "<Figure size 864x288 with 1 Axes>"
      ]
     },
     "metadata": {},
     "output_type": "display_data"
    },
    {
     "data": {
      "image/png": "[encoded data removed]",
      "text/plain": [
       "<Figure size 864x288 with 1 Axes>"
      ]
     },
     "metadata": {},
     "output_type": "display_data"
    }
   ],
   "source": [
    "import matplotlib.pyplot as plt\n",
    "import pandas as pd\n",
    "import seaborn as sns\n",
    "\n",
    "plt.rcParams.update({'font.size': 22})\n",
    "plt.rc('xtick', labelsize=20) \n",
    "\n",
    "sns.set();\n",
    "\n",
    "fig = plt.figure(figsize=(12, 4))\n",
    "sns.distplot(win_sum_has_peaks, bins=np.arange(40), label='Windows with peaks')\n",
    "sns.distplot(win_sum_no_peaks, bins=np.arange(40), label='Windows without peaks')\n",
    "sns.distplot(win_sum[selected_win], bins=np.arange(40), label='Undersampled windows')\n",
    "plt.xlabel('Total signal per window')\n",
    "fig.legend()\n",
    "\n",
    "fig = plt.figure(figsize=(12, 4))\n",
    "sns.distplot(win_sum[~selected_win], bins=np.arange(40), label='Filtered out windows')\n",
    "sns.distplot(win_sum[selected_win], bins=np.arange(40), label='Sampled windows')\n",
    "plt.xlabel('Total signal per window')\n",
    "fig.legend()"
   ]
  },
  {
   "cell_type": "markdown",
   "metadata": {},
   "source": [
    "#### Split data into train, dev, test\n",
    "\n",
    "We are going to use 80% for training, 10% for dev, and 10% for testing."
   ]
  },
  {
   "cell_type": "code",
   "execution_count": 20,
   "metadata": {},
   "outputs": [
    {
     "name": "stdout",
     "output_type": "stream",
     "text": [
      "Train: 4944 (with 57.83% peaks) Dev: 436 (with 60.32% peaks) Test: 437 (with 58.81% peaks)\n"
     ]
    }
   ],
   "source": [
    "total_num_filtered_windows = data_filtered.shape[0]\n",
    "shuffling = np.arange(total_num_filtered_windows)\n",
    "\n",
    "# Shuffle window ids and use the shuffled ids to shuffle the window data and window peaks\n",
    "np.random.seed(rnd_seed)\n",
    "np.random.shuffle(shuffling)\n",
    "data_filtered_shuffled = data_filtered[shuffling]\n",
    "win_has_peaks_filtered_shuffled = win_has_peaks_filtered[shuffling]\n",
    "\n",
    "# Split into train, dev, and test set\n",
    "split_1 = int((1.0 - dev_set_size - test_set_size) * total_num_filtered_windows)\n",
    "split_2 = int((1.0 - test_set_size) * total_num_filtered_windows)\n",
    "\n",
    "data_train = data_filtered_shuffled[:split_1]\n",
    "peaks_train = win_has_peaks_filtered_shuffled[:split_1]\n",
    "data_dev = data_filtered_shuffled[split_1:split_2]\n",
    "peaks_dev = win_has_peaks_filtered_shuffled[split_1:split_2]\n",
    "data_test = data_filtered_shuffled[split_2:]\n",
    "peaks_test = win_has_peaks_filtered_shuffled[split_2:]\n",
    "\n",
    "print('Train: {} (with {:.2f}% peaks) Dev: {} (with {:.2f}% peaks) Test: {} (with {:.2f}% peaks)'.format(\n",
    "    data_train.shape[0],\n",
    "    np.sum(peaks_train) / peaks_train.shape[0] * 100,\n",
    "    data_dev.shape[0],\n",
    "    np.sum(peaks_dev) / peaks_dev.shape[0] * 100,\n",
    "    data_test.shape[0],\n",
    "    np.sum(peaks_test) / peaks_test.shape[0] * 100,\n",
    "))"
   ]
  },
  {
   "cell_type": "markdown",
   "metadata": {},
   "source": [
    "## Define different CAEs for comparison"
   ]
  },
  {
   "cell_type": "code",
   "execution_count": null,
   "metadata": {},
   "outputs": [],
   "source": [
    "# Load models"
   ]
  },
  {
   "cell_type": "code",
   "execution_count": 23,
   "metadata": {},
   "outputs": [],
   "source": [
    "# Building CAE\n",
    "\n",
    "from ae.cnn import cnn2\n",
    "\n",
    "encoder1, decoder1, autoencoder1 = cnn2(\n",
    "    (window_size // aggregation, 1),\n",
    "    filters=[32, 64, 128, 10],\n",
    "    kernel_sizes=[11, 7, 3],\n",
    "    summary=False,\n",
    "    dr=True\n",
    ")\n",
    "\n",
    "encoder2, decoder2, autoencoder2 = cnn2(\n",
    "    (window_size // aggregation, 1),\n",
    "    filters=[32, 64, 128, 6],\n",
    "    kernel_sizes=[11, 9, 5],\n",
    "    summary=False,\n",
    "    dr=True\n",
    ")\n",
    "\n",
    "encoder3, decoder3, autoencoder3 = cnn2(\n",
    "    (window_size // aggregation, 1),\n",
    "    filters=[32, 64, 128, 6],\n",
    "    kernel_sizes=[9, 5, 3],\n",
    "    summary=False,\n",
    "    dr=True\n",
    ")"
   ]
  },
  {
   "cell_type": "markdown",
   "metadata": {},
   "source": [
    "## Train the CAEs"
   ]
  },
  {
   "cell_type": "code",
   "execution_count": 25,
   "metadata": {},
   "outputs": [
    {
     "name": "stdout",
     "output_type": "stream",
     "text": [
      "Train on 20488 samples, validate on 8550 samples\n",
      "Epoch 1/1\n",
      "20488/20488 [==============================] - 26s 1ms/step - loss: 0.2511 - val_loss: 0.1266\n",
      "Train on 20488 samples, validate on 8550 samples\n",
      "Epoch 1/1\n",
      "20488/20488 [==============================] - 36s 2ms/step - loss: 0.2508 - val_loss: 0.1368\n",
      "Train on 20488 samples, validate on 8550 samples\n",
      "Epoch 1/1\n",
      "20488/20488 [==============================] - 26s 1ms/step - loss: 0.2530 - val_loss: 0.1326\n"
     ]
    },
    {
     "data": {
      "text/plain": [
       "<keras.callbacks.History at 0x1a68bb6e48>"
      ]
     },
     "execution_count": 25,
     "metadata": {},
     "output_type": "execute_result"
    }
   ],
   "source": [
    "from ae.utils import train\n",
    "\n",
    "epochs = 1\n",
    "batch_size = 256\n",
    "\n",
    "train(\n",
    "    autoencoder1,\n",
    "    data_train_norm_filt.reshape(data_train_norm_filt.shape[0], data_train_norm_filt.shape[1], 1),\n",
    "    data_test_norm.reshape(data_test_norm.shape[0], data_test_norm.shape[1], 1),\n",
    "    epochs=epochs,\n",
    "    batch_size=batch_size,\n",
    ")\n",
    "\n",
    "train(\n",
    "    autoencoder2,\n",
    "    data_train_norm_filt.reshape(data_train_norm_filt.shape[0], data_train_norm_filt.shape[1], 1),\n",
    "    data_test_norm.reshape(data_test_norm.shape[0], data_test_norm.shape[1], 1),\n",
    "    epochs=epochs,\n",
    "    batch_size=batch_size,\n",
    ")\n",
    "\n",
    "train(\n",
    "    autoencoder3,\n",
    "    data_train_norm_filt.reshape(data_train_norm_filt.shape[0], data_train_norm_filt.shape[1], 1),\n",
    "    data_test_norm.reshape(data_test_norm.shape[0], data_test_norm.shape[1], 1),\n",
    "    epochs=epochs,\n",
    "    batch_size=batch_size,\n",
    ")"
   ]
  },
  {
   "cell_type": "markdown",
   "metadata": {},
   "source": [
    "#### Save the models"
   ]
  },
  {
   "cell_type": "code",
   "execution_count": 7,
   "metadata": {},
   "outputs": [],
   "source": [
    "# encoder1.save('models/encode-gm12878-dnase-seq-2011-encoder-chr1-chr22-new-cnn.h5')\n",
    "# decoder1.save('models/encode-gm12878-dnase-seq-2011-decoder-chr1-chr22-new-cnn.h5')\n",
    "# autoencoder1.save('models/encode-gm12878-dnase-seq-2011-autoencoder-chr1-chr22-new-cnn.h5')"
   ]
  },
  {
   "cell_type": "markdown",
   "metadata": {},
   "source": [
    "## Predict encodings"
   ]
  },
  {
   "cell_type": "code",
   "execution_count": 28,
   "metadata": {},
   "outputs": [],
   "source": [
    "from keras.metrics import binary_crossentropy\n",
    "from ae.utils import predict\n",
    "\n",
    "predicted1, loss1, _ = predict(\n",
    "    encoder1,\n",
    "    decoder1,\n",
    "    data_test_norm.reshape(data_test_norm.shape[0], data_test_norm.shape[1], 1),\n",
    "    validator=binary_crossentropy\n",
    ")\n",
    "predicted1 = predicted1.reshape(predicted1.shape[0], predicted1.shape[1])\n",
    "\n",
    "predicted2, loss2, _ = predict(\n",
    "    encoder2,\n",
    "    decoder2,\n",
    "    data_test_norm.reshape(data_test_norm.shape[0], data_test_norm.shape[1], 1),\n",
    "    validator=binary_crossentropy\n",
    ")\n",
    "predicted2 = predicted2.reshape(predicted2.shape[0], predicted2.shape[1])\n",
    "\n",
    "predicted2, loss2, _ = predict(\n",
    "    encoder2,\n",
    "    decoder2,\n",
    "    data_test_norm.reshape(data_test_norm.shape[0], data_test_norm.shape[1], 1),\n",
    "    validator=binary_crossentropy\n",
    ")\n",
    "predicted2 = predicted2.reshape(predicted2.shape[0], predicted2.shape[1])"
   ]
  },
  {
   "cell_type": "markdown",
   "metadata": {},
   "source": [
    "## Visualize preditions"
   ]
  },
  {
   "cell_type": "code",
   "execution_count": 31,
   "metadata": {},
   "outputs": [
    {
     "data": {
      "image/png": "[encoded data removed]",
      "text/plain": [
       "<Figure size 1440x1440 with 24 Axes>"
      ]
     },
     "metadata": {},
     "output_type": "display_data"
    }
   ],
   "source": [
    "import matplotlib.pyplot as plt\n",
    "\n",
    "n = 8\n",
    "offset = 5920\n",
    "\n",
    "ymax = 0.5\n",
    "\n",
    "plt.figure(figsize=(20, 20))\n",
    "for i in range(n):\n",
    "    k = i + offset\n",
    "    \n",
    "    # display original\n",
    "    ax = plt.subplot(n * 3, 1, i * 3 + 1)\n",
    "    ax.set_facecolor('#EFF0FF')\n",
    "    plt.bar(np.arange(data_test_norm[k].size), data_test_norm[k], color='b')\n",
    "    plt.ylim(0, ymax)\n",
    "    ax.get_xaxis().set_visible(False)\n",
    "\n",
    "    # display reconstruction\n",
    "    ax = plt.subplot(n * 3, 1, i * 3 + 2)\n",
    "    ax.set_facecolor('#FFE9E6')\n",
    "    plt.bar(np.arange(predicted1[k].size), predicted1[k], color='r')\n",
    "    plt.ylim(0, ymax)\n",
    "    ax.get_xaxis().set_visible(False)\n",
    "\n",
    "    # display reconstruction\n",
    "    ax = plt.subplot(n * 3, 1, i * 3 + 3)\n",
    "    ax.set_facecolor('#FCFFD9')\n",
    "    plt.bar(np.arange(predicted2[k].size), predicted2[k], color='y')\n",
    "    plt.ylim(0, ymax)\n",
    "    ax.get_xaxis().set_visible(False)\n",
    "plt.show()"
   ]
  },
  {
   "cell_type": "markdown",
   "metadata": {},
   "source": [
    "#### Visualize the best and worse windows in terms of loss\n",
    "\n",
    "The top blueish plots show the best predictions and the redish ones at the bottom show the worse predictions. The ground truth is plotted semi-transparently in gray."
   ]
  },
  {
   "cell_type": "code",
   "execution_count": 41,
   "metadata": {},
   "outputs": [
    {
     "data": {
      "image/png": "[encoded data removed]",
      "text/plain": [
       "<Figure size 1440x720 with 12 Axes>"
      ]
     },
     "metadata": {},
     "output_type": "display_data"
    }
   ],
   "source": [
    "import matplotlib.pyplot as plt\n",
    "\n",
    "examples = 6\n",
    "n = examples * 2\n",
    "\n",
    "best_worst = np.argsort(loss1)\n",
    "best_worst = np.concatenate((best_worst[:examples], best_worst[-examples:]))\n",
    "\n",
    "plt.figure(figsize=(20, 10))\n",
    "for i, k in enumerate(best_worst):\n",
    "    ymax = np.max(data_test_norm[k])\n",
    "    \n",
    "    if i < examples:\n",
    "        ca = '#000000'\n",
    "        bgca = '#eff9ff'\n",
    "        cb = '#0015d6'\n",
    "    else:\n",
    "        ca = '#000000'\n",
    "        bgca = '#fff0e6'\n",
    "        cb = '#c12409'\n",
    "    \n",
    "    # display original\n",
    "    ax = plt.subplot(n, 1, i + 1)\n",
    "    ax.set_facecolor(bgca)\n",
    "    plt.bar(np.arange(data_test_norm[i].size), data_test_norm[k], color=ca, alpha=0.33)\n",
    "    plt.bar(np.arange(predicted1[k].size), predicted1[k], color=cb, alpha=0.66)\n",
    "    plt.ylim(0, 0.75)\n",
    "    ax.get_xaxis().set_visible(False)\n",
    "plt.show()"
   ]
  },
  {
   "cell_type": "code",
   "execution_count": null,
   "metadata": {},
   "outputs": [],
   "source": []
  }
 ],
 "metadata": {
  "kernelspec": {
   "display_name": "Python 3",
   "language": "python",
   "name": "python3"
  },
  "language_info": {
   "codemirror_mode": {
    "name": "ipython",
    "version": 3
   },
   "file_extension": ".py",
   "mimetype": "text/x-python",
   "name": "python",
   "nbconvert_exporter": "python",
   "pygments_lexer": "ipython3",
   "version": "3.6.7"
  }
 },
 "nbformat": 4,
 "nbformat_minor": 2
}
