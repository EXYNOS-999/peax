{
 "cells": [
  {
   "cell_type": "markdown",
   "metadata": {},
   "source": [
    "# This notebook uses all the script to train a CAE for DNase"
   ]
  },
  {
   "cell_type": "code",
   "execution_count": null,
   "metadata": {},
   "outputs": [],
   "source": [
    "%load_ext autoreload\n",
    "%autoreload 2\n",
    "%matplotlib inline\n",
    "\n",
    "import json\n",
    "import numpy as np\n",
    "import os\n",
    "import sys\n",
    "\n",
    "module_path = os.path.abspath(os.path.join('..'))\n",
    "if module_path not in sys.path:\n",
    "    sys.path.append(module_path)\n",
    "    \n",
    "testing = False\n",
    "    \n",
    "# The base directory is one level up\n",
    "base = '..'\n",
    "settings_filepath = '../settings-grch38-chip-12kb.json'\n",
    "search_filepath = '../cnn-optimize-2.json'\n",
    "\n",
    "with open(settings_filepath, \"r\") as f:\n",
    "    settings = json.load(f)\n",
    "\n",
    "with open(search_filepath, \"r\") as f:\n",
    "    search = json.load(f)"
   ]
  },
  {
   "cell_type": "markdown",
   "metadata": {},
   "source": [
    "## Create training jobs"
   ]
  },
  {
   "cell_type": "code",
   "execution_count": null,
   "metadata": {
    "scrolled": false
   },
   "outputs": [],
   "source": [
    "from jobs import jobs\n",
    "\n",
    "jobs(\n",
    "    os.path.relpath(search_filepath, base),\n",
    "    os.path.relpath(settings_filepath, base),\n",
    "    dataset=\"cnn-search\",\n",
    "    name=\"cnn-optimize-2\",\n",
    "    cluster=\"seas\",\n",
    "    epochs=25,\n",
    "    batch_size=256,\n",
    "    base=base,\n",
    "    clear=True,\n",
    "    verbose=False\n",
    ")"
   ]
  },
  {
   "cell_type": "markdown",
   "metadata": {},
   "source": [
    "## Test training run of the most complex CAE"
   ]
  },
  {
   "cell_type": "code",
   "execution_count": null,
   "metadata": {},
   "outputs": [],
   "source": [
    "from train import train_on_single_dataset\n",
    "\n",
    "model_name = 'cf-128-256-512-1024--ck-3-7-11-15--du---do-0-0-0-0--e-10--rl-0--o-adadelta--lr-1.0--lrd-0.001--l-smse-10--m---bn-0-0-0-0--bni-0'\n",
    "\n",
    "with open('../models/{}.json'.format(model_name), 'r') as f:\n",
    "    definition = json.load(f)\n",
    "\n",
    "train_on_single_dataset(\n",
    "    settings,\n",
    "    'cnn-search',\n",
    "    definition,\n",
    "    epochs=2,\n",
    "    batch_size=256,\n",
    "    peak_weight=2,\n",
    "    signal_weighting='logn',\n",
    "    signal_weighting_zero_point_percentage=0.02,\n",
    "    base=base,\n",
    "    clear=True,\n",
    ")"
   ]
  },
  {
   "cell_type": "markdown",
   "metadata": {},
   "source": [
    "## Create evaluation jobs"
   ]
  },
  {
   "cell_type": "code",
   "execution_count": null,
   "metadata": {
    "scrolled": true
   },
   "outputs": [],
   "source": [
    "from evaluate import create_jobs\n",
    "\n",
    "create_jobs(\n",
    "    'cnn-optimize-2',\n",
    "    name='cnn-optimize-2',\n",
    "    dataset='cnn-search',\n",
    "    cluster='seas',\n",
    "    base=base,\n",
    "    clear=True,\n",
    "    incl_dtw=False,\n",
    ")"
   ]
  },
  {
   "cell_type": "markdown",
   "metadata": {},
   "source": [
    "The data will be downloaded to `../data`."
   ]
  },
  {
   "cell_type": "markdown",
   "metadata": {},
   "source": [
    "In a terminal run: `sbatch evaluate-cnn-optimize-2.slurm`\n",
    "\n",
    "## Compare"
   ]
  },
  {
   "cell_type": "code",
   "execution_count": null,
   "metadata": {},
   "outputs": [],
   "source": [
    "from compare import compare\n",
    "    \n",
    "performance = compare(\n",
    "    'definitions-cnn-optimize-2.json',\n",
    "    dataset_name='cnn-search',\n",
    "    base=base,\n",
    "    clear=False,\n",
    "    verbose=False,\n",
    "    silent=False,\n",
    "    remove_common_prefix_from_df=True,\n",
    ")"
   ]
  },
  {
   "cell_type": "code",
   "execution_count": null,
   "metadata": {},
   "outputs": [],
   "source": [
    "import qgrid\n",
    "\n",
    "qgw = qgrid.show_grid(performance)\n",
    "qgw"
   ]
  },
  {
   "cell_type": "code",
   "execution_count": null,
   "metadata": {
    "scrolled": false
   },
   "outputs": [],
   "source": [
    "from IPython.core.display import Image, display\n",
    "\n",
    "for model in qgw.get_selected_df().iterrows():\n",
    "    print(model[0])\n",
    "    display(Image(os.path.join(base, 'models', 'cf-{}---predictions-{}.png'.format(model[0], 'cnn-search'))))"
   ]
  }
 ],
 "metadata": {
  "kernelspec": {
   "display_name": "Python 3",
   "language": "python",
   "name": "python3"
  },
  "language_info": {
   "codemirror_mode": {
    "name": "ipython",
    "version": 3
   },
   "file_extension": ".py",
   "mimetype": "text/x-python",
   "name": "python",
   "nbconvert_exporter": "python",
   "pygments_lexer": "ipython3",
   "version": "3.6.8"
  }
 },
 "nbformat": 4,
 "nbformat_minor": 2
}
