{
 "cells": [
  {
   "cell_type": "markdown",
   "metadata": {},
   "source": [
    "# GRCh38 DNase 12 kb CAE Final Test on Separate Datasets\n",
    "\n",
    "**Tasks:** evaluate whether the running the final CAE on many small datasets harms training or speed"
   ]
  },
  {
   "cell_type": "code",
   "execution_count": null,
   "metadata": {},
   "outputs": [],
   "source": [
    "%load_ext autoreload\n",
    "%autoreload 2\n",
    "%matplotlib inline\n",
    "\n",
    "import json\n",
    "import numpy as np\n",
    "import os\n",
    "import sys\n",
    "\n",
    "module_path = os.path.abspath(os.path.join('..'))\n",
    "if module_path not in sys.path:\n",
    "    sys.path.append(module_path)\n",
    "    \n",
    "testing = False\n",
    "    \n",
    "# The base directory is one level up\n",
    "base = '..'\n",
    "name = 'cnn-test'\n",
    "dataset = 'testing'\n",
    "datasets = 'datasets-grch38-dnase-{}.json'.format(dataset)\n",
    "settings_filepath = '../settings-grch38-chip-12kb.json'\n",
    "search_filepath = '../{}.json'.format(name)\n",
    "\n",
    "with open(settings_filepath, \"r\") as f:\n",
    "    settings = json.load(f)\n",
    "\n",
    "with open(search_filepath, \"r\") as f:\n",
    "    search = json.load(f)"
   ]
  },
  {
   "cell_type": "markdown",
   "metadata": {},
   "source": [
    "## Create training jobs"
   ]
  },
  {
   "cell_type": "code",
   "execution_count": null,
   "metadata": {
    "scrolled": false
   },
   "outputs": [],
   "source": [
    "from jobs import jobs\n",
    "\n",
    "jobs(\n",
    "    os.path.relpath(search_filepath, base),\n",
    "    os.path.relpath(settings_filepath, base),\n",
    "    datasets=datasets,\n",
    "    name='{}-separate-datasets'.format(name),\n",
    "    cluster='holyseas',\n",
    "    epochs=5,\n",
    "    batch_size=256,\n",
    "    repeat=10,\n",
    "    base=base,\n",
    "    clear=True,\n",
    "    verbose=False\n",
    ")"
   ]
  },
  {
   "cell_type": "markdown",
   "metadata": {},
   "source": [
    "## Test training run of the most complex CAE"
   ]
  },
  {
   "cell_type": "code",
   "execution_count": null,
   "metadata": {},
   "outputs": [],
   "source": [
    "from train import train\n",
    "\n",
    "with open(os.path.join(base, 'definitions-{}.json'.format(name)), 'r') as f:\n",
    "    definitions = json.load(f)\n",
    "    \n",
    "with open(os.path.join(base, datasets), 'r') as f:\n",
    "    dataset_names = list(json.load(f).keys())\n",
    "\n",
    "train(\n",
    "    settings,\n",
    "    dataset_names,\n",
    "    definitions=definitions,\n",
    "    definition_idx=0,\n",
    "    epochs=3,\n",
    "    batch_size=128,\n",
    "    base=base,\n",
    "    clear=True,\n",
    ")"
   ]
  },
  {
   "cell_type": "code",
   "execution_count": null,
   "metadata": {},
   "outputs": [],
   "source": [
    "from ae.utils import check_status\n",
    "\n",
    "okay, not_found, outdated = check_status(\n",
    "    name, 'training', base=base\n",
    ")\n",
    "\n",
    "if okay:\n",
    "    print('Trainings completed')\n",
    "else:\n",
    "    print('Trainings did not finish. Missing {}'.format(len(not_found)))"
   ]
  },
  {
   "cell_type": "markdown",
   "metadata": {},
   "source": [
    "## Create evaluation jobs"
   ]
  },
  {
   "cell_type": "code",
   "execution_count": null,
   "metadata": {
    "scrolled": true
   },
   "outputs": [],
   "source": [
    "from evaluate import create_jobs\n",
    "\n",
    "create_jobs(\n",
    "    name,\n",
    "    name=name,\n",
    "    dataset=dataset,\n",
    "    cluster='holyseas',\n",
    "    base=base,\n",
    "    clear=True,\n",
    "    incl_dtw=False,\n",
    ")"
   ]
  },
  {
   "cell_type": "markdown",
   "metadata": {},
   "source": [
    "In a terminal run: `sbatch evaluate-cnn-test.slurm`"
   ]
  },
  {
   "cell_type": "code",
   "execution_count": null,
   "metadata": {},
   "outputs": [],
   "source": [
    "from ae.utils import check_status\n",
    "\n",
    "okay, not_found, outdated = check_status(\n",
    "    name, 'evaluation', 'cnn-search', base=base\n",
    ")\n",
    "\n",
    "if okay:\n",
    "    print('Evaluation completed')\n",
    "else:\n",
    "    print('Evaluation did not finish. Missing {}'.format(len(not_found)))"
   ]
  },
  {
   "cell_type": "markdown",
   "metadata": {},
   "source": [
    "## Compare"
   ]
  },
  {
   "cell_type": "code",
   "execution_count": null,
   "metadata": {},
   "outputs": [],
   "source": [
    "from compare import compare\n",
    "    \n",
    "performance = compare(\n",
    "    'definitions-{}.json'.format(name),\n",
    "    dataset_name=dataset,\n",
    "    base=base,\n",
    "    clear=False,\n",
    "    verbose=False,\n",
    "    silent=False,\n",
    "    remove_common_prefix_from_df=True,\n",
    ")"
   ]
  },
  {
   "cell_type": "code",
   "execution_count": null,
   "metadata": {},
   "outputs": [],
   "source": [
    "import qgrid\n",
    "\n",
    "qgw = qgrid.show_grid(performance)\n",
    "qgw"
   ]
  },
  {
   "cell_type": "code",
   "execution_count": null,
   "metadata": {
    "scrolled": false
   },
   "outputs": [],
   "source": [
    "from IPython.core.display import Image, display\n",
    "\n",
    "for model in qgw.get_selected_df().iterrows():\n",
    "    print(model[0])\n",
    "    display(Image(os.path.join(base, 'models', 'cf-{}---predictions-{}.png'.format(model[0], dataset))))"
   ]
  }
 ],
 "metadata": {
  "kernelspec": {
   "display_name": "Python 3",
   "language": "python",
   "name": "python3"
  },
  "language_info": {
   "codemirror_mode": {
    "name": "ipython",
    "version": 3
   },
   "file_extension": ".py",
   "mimetype": "text/x-python",
   "name": "python",
   "nbconvert_exporter": "python",
   "pygments_lexer": "ipython3",
   "version": "3.6.7"
  }
 },
 "nbformat": 4,
 "nbformat_minor": 2
}
