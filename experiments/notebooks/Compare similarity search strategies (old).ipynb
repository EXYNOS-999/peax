{
 "cells": [
  {
   "cell_type": "markdown",
   "metadata": {},
   "source": [
    "# Compare similarity search strategies (OLD)\n",
    "\n",
    "In this notebook I am comparing the following similarity search strategies for finding genomic regions with similar peaks:\n",
    "\n",
    "1. kNN search in the autoencoded latent space\n",
    "(1b. kNN search in the UMAP 2D embedding of the autoencoded latent space)\n",
    "2. kNN search in the Euclidean space of the original data\n",
    "3. kNN search in the DTW space of the original data\n",
    "4. kNN search in the 2D UMAP embedding of the original data\n",
    "5. Template-matching with normalized cross correlation"
   ]
  },
  {
   "cell_type": "code",
   "execution_count": 1,
   "metadata": {},
   "outputs": [],
   "source": [
    "%load_ext autoreload\n",
    "%autoreload 2\n",
    "%matplotlib inline"
   ]
  },
  {
   "cell_type": "code",
   "execution_count": 2,
   "metadata": {},
   "outputs": [],
   "source": [
    "import numpy as np\n",
    "import os\n",
    "import sys\n",
    "import warnings\n",
    "\n",
    "# Ignore warnings as they just pollute the output\n",
    "warnings.filterwarnings('ignore')\n",
    "\n",
    "# Enable importing modules from the parent directory\n",
    "module_path = os.path.abspath(os.path.join('..'))\n",
    "if module_path not in sys.path:\n",
    "    sys.path.append(module_path)\n",
    "module_path = os.path.abspath(os.path.join('../experiments'))\n",
    "if module_path not in sys.path:\n",
    "    sys.path.append(module_path)\n",
    "\n",
    "# DNase-seq 2011, hg19\n",
    "bw = 'data/ENCFF158GBQ.bigWig'"
   ]
  },
  {
   "cell_type": "markdown",
   "metadata": {},
   "source": [
    "## Load and normalize the data\n",
    "\n",
    "#### Download the data"
   ]
  },
  {
   "cell_type": "code",
   "execution_count": 3,
   "metadata": {},
   "outputs": [
    {
     "name": "stdout",
     "output_type": "stream",
     "text": [
      "File already exist. To overwrite pass `overwrite=True`\n"
     ]
    }
   ],
   "source": [
    "from download import download_encode_file\n",
    "from pathlib import Path\n",
    "\n",
    "Path('data').mkdir(parents=True, exist_ok=True) \n",
    "\n",
    "download_encode_file('ENCFF158GBQ.bigWig')"
   ]
  },
  {
   "cell_type": "markdown",
   "metadata": {},
   "source": [
    "#### Load models, extract genomic windows, and normalize data"
   ]
  },
  {
   "cell_type": "code",
   "execution_count": 4,
   "metadata": {},
   "outputs": [
    {
     "name": "stderr",
     "output_type": "stream",
     "text": [
      "/Users/Fritz/miniconda3/envs/px/lib/python3.6/site-packages/keras/engine/saving.py:292: UserWarning: No training configuration found in save file: the model was *not* compiled. Compile it manually.\n",
      "  warnings.warn('No training configuration found in save file: '\n",
      "/Users/Fritz/miniconda3/envs/px/lib/python3.6/site-packages/keras/engine/saving.py:292: UserWarning: No training configuration found in save file: the model was *not* compiled. Compile it manually.\n",
      "  warnings.warn('No training configuration found in save file: '\n"
     ]
    },
    {
     "name": "stdout",
     "output_type": "stream",
     "text": [
      "Extracted 42753 windows from chr22 with a max value of 1.0.\n"
     ]
    }
   ],
   "source": [
    "# Load model and data and normalize data\n",
    "\n",
    "from keras.models import load_model\n",
    "from server import bigwig\n",
    "\n",
    "encoder_2_4kb = load_model('../../examples/encode-gm12878-dnase-seq-2011-encoder-2_4kb.h5')\n",
    "decoder_2_4kb = load_model('../../examples/encode-gm12878-dnase-seq-2011-decoder-2_4kb.h5')\n",
    "\n",
    "data_2_4kb = bigwig.chunk(\n",
    "    bw,\n",
    "    2400,\n",
    "    100,\n",
    "    2400 / 2,\n",
    "    ['chr22'],\n",
    "    verbose=True,\n",
    ")"
   ]
  },
  {
   "cell_type": "code",
   "execution_count": 222,
   "metadata": {},
   "outputs": [
    {
     "name": "stdout",
     "output_type": "stream",
     "text": [
      "Extracted 207708 windows from chr1 with a max value of 1.0.\n",
      "Extracted 202666 windows from chr2 with a max value of 1.0.\n",
      "Extracted 165018 windows from chr3 with a max value of 1.0.\n"
     ]
    }
   ],
   "source": [
    "data_2_4kb_b = bigwig.chunk(\n",
    "    bw,\n",
    "    2400,\n",
    "    100,\n",
    "    2400 / 2,\n",
    "    ['chr1', 'chr2', 'chr3'],\n",
    "    verbose=True,\n",
    ")"
   ]
  },
  {
   "cell_type": "markdown",
   "metadata": {},
   "source": [
    "## Encode data"
   ]
  },
  {
   "cell_type": "code",
   "execution_count": 5,
   "metadata": {},
   "outputs": [],
   "source": [
    "from ae.utils import predict\n",
    "\n",
    "predicted_2_4kb, _, latent_2_4kb = predict(\n",
    "    encoder_2_4kb,\n",
    "    decoder_2_4kb,\n",
    "    data_2_4kb.reshape(data_2_4kb.shape[0], data_2_4kb.shape[1], 1)\n",
    ")"
   ]
  },
  {
   "cell_type": "markdown",
   "metadata": {},
   "source": [
    "## Helper methods\n",
    "\n",
    "#### Simple kNN search"
   ]
  },
  {
   "cell_type": "code",
   "execution_count": 6,
   "metadata": {},
   "outputs": [],
   "source": [
    "from scipy.spatial.distance import cdist\n",
    "\n",
    "def knn(data, target_idx, k, metric='euclidean', sax = None, ignore: int = 0):\n",
    "    \"\"\"K nearest neighbors\n",
    "    \n",
    "    Find the `k` nearest neighbors of a \n",
    "    \"\"\"\n",
    "    \n",
    "    target = data[target_idx]\n",
    "    \n",
    "    if sax is None:\n",
    "        dist = cdist(data, target.reshape((1, target.size)), metric='euclidean').flatten()\n",
    "\n",
    "    else:\n",
    "        N = data.shape[0]\n",
    "        dist = np.zeros(N)\n",
    "        for i in range(N):\n",
    "            dist[i] = sax.distance_sax(target, data[i])\n",
    "\n",
    "    # Ensure that the target is always first\n",
    "    dist[target_idx] = -1\n",
    "    for i in range(1, ignore + 1):\n",
    "        dist[min(target_idx + i, data.shape[0] - 1)] = -1\n",
    "        dist[max(target_idx - i, 0)] = -1\n",
    "    \n",
    "    return np.argsort(dist)[1 + (2 * ignore):k + 1 + (2 * ignore)]"
   ]
  },
  {
   "cell_type": "markdown",
   "metadata": {},
   "source": [
    "#### DTW distance"
   ]
  },
  {
   "cell_type": "code",
   "execution_count": 7,
   "metadata": {},
   "outputs": [],
   "source": [
    "from scipy.spatial.distance import euclidean\n",
    "from fastdtw import fastdtw\n",
    "from multiprocessing import Pool\n",
    "\n",
    "def dtw(data, target_idx: int, n: int, target = None, return_all = False, print_progress: bool = False):\n",
    "    N = data.shape[0]\n",
    "    dist = np.zeros(N)\n",
    "    \n",
    "    if target is None:\n",
    "        target = data[target_idx]\n",
    "        \n",
    "    p = ((np.arange(4) + 1) * (N // 4)).astype(int)\n",
    "    \n",
    "    for i in np.arange(N):\n",
    "        if i in p and print_progress:\n",
    "            print('.', end='', flush=True)\n",
    "        d, _ = fastdtw(data[i], target, dist=euclidean)\n",
    "        dist[i] = d\n",
    "    \n",
    "    if return_all:\n",
    "        return dist\n",
    "    \n",
    "    return np.argsort(dist)[:n]\n",
    "\n",
    "def pooled_dtw(data, target_idx: int, n: int, print_progress: bool = False, ignore: int = 0):\n",
    "    target = data[target_idx]\n",
    "    is_not_target = np.arange(data.shape[0]) != target_idx\n",
    "    for i in range(0, ignore + 1):\n",
    "        is_not_target[min(target_idx + i, data.shape[0] - 1)] = False\n",
    "        is_not_target[max(target_idx - i, 0)] = False\n",
    "    \n",
    "    with Pool() as pool:\n",
    "        args = [[d, 0, n, target, True, print_progress] for d in np.array_split(data[is_not_target], pool._processes)]\n",
    "        dist = np.concatenate(pool.starmap(dtw, args))\n",
    "        \n",
    "        return np.argsort(dist)[:n]"
   ]
  },
  {
   "cell_type": "markdown",
   "metadata": {},
   "source": [
    "#### Normalized cross correlation search"
   ]
  },
  {
   "cell_type": "code",
   "execution_count": 8,
   "metadata": {},
   "outputs": [],
   "source": [
    "from scipy.signal import correlate\n",
    "\n",
    "def norm(data, zero_norm: bool = False):\n",
    "    mean = np.mean(data) if zero_norm else 0\n",
    "    \n",
    "    return (data - mean) / np.std(data)\n",
    "\n",
    "def norm2d(data, zero_norm: bool = False):\n",
    "    mean = np.mean(data, axis=1).reshape(-1, 1) if zero_norm else np.zeros((data.shape[0], 1))\n",
    "    std = np.std(data, axis=1).reshape(-1, 1)\n",
    "    \n",
    "    return (data - mean) / std\n",
    "\n",
    "def xcorrelation(data, template_idx, n, normalize=False, zero_normalize=False, ignore: int = 0):\n",
    "    unknown = data\n",
    "    template = data[template_idx]\n",
    "    \n",
    "    if norm:\n",
    "        unknown = norm2d(unknown, zero_norm=zero_normalize)\n",
    "        template = norm(template, zero_norm=zero_normalize)\n",
    "        \n",
    "    xcorr = np.apply_along_axis(lambda m: correlate(m, template, mode='full'), axis=1, arr=unknown)\n",
    "    xcorr[np.where(np.isnan(xcorr))] = 0\n",
    "\n",
    "    max_xcorr = np.nanmax(xcorr, axis=1)\n",
    "    \n",
    "    # Ensure that the target is always last\n",
    "    max_xcorr[template_idx] = -1\n",
    "    for i in range(1, ignore + 1):\n",
    "        max_xcorr[min(template_idx + i, data.shape[0] - 1)] = -1\n",
    "        max_xcorr[max(template_idx - i, 0)] = -1\n",
    "    \n",
    "    return np.argsort(max_xcorr)[::-1][:n]"
   ]
  },
  {
   "cell_type": "markdown",
   "metadata": {},
   "source": [
    "## Generate UMAP embeddings of the latent space and original data space"
   ]
  },
  {
   "cell_type": "code",
   "execution_count": null,
   "metadata": {},
   "outputs": [],
   "source": [
    "import umap\n",
    "\n",
    "umap_embedding_2_4kb = umap.UMAP(\n",
    "    n_neighbors=10,\n",
    "    min_dist=0.01,\n",
    "    metric='l2',\n",
    ").fit_transform(data_2_4kb)"
   ]
  },
  {
   "cell_type": "markdown",
   "metadata": {},
   "source": [
    "## 2.4kb Search"
   ]
  },
  {
   "cell_type": "code",
   "execution_count": 90,
   "metadata": {},
   "outputs": [
    {
     "name": "stdout",
     "output_type": "stream",
     "text": [
      "Search for window #20196..Computing the DTW distance for 42753 windows took 287.4487359523773\n",
      "... done!\n",
      "Search for window #26570..Computing the DTW distance for 42753 windows took 279.80624294281006\n",
      "... done!\n",
      "Search for window #26576..Computing the DTW distance for 42753 windows took 282.0815329551697\n",
      "... done!\n",
      "Search for window #26790..Computing the DTW distance for 42753 windows took 279.5405559539795\n",
      "... done!\n",
      "Search for window #26791..Computing the DTW distance for 42753 windows took 276.1450231075287\n",
      "... done!\n",
      "Search for window #31670..Computing the DTW distance for 42753 windows took 276.2667832374573\n",
      "... done!\n",
      "Search for window #25513..Computing the DTW distance for 42753 windows took 271.9153709411621\n",
      "... done!\n"
     ]
    }
   ],
   "source": [
    "# Some genomic windows with interesting peaks\n",
    "targets = [20196, 26570, 26576, 26790, 26791, 31670, 25513]\n",
    "k = 5\n",
    "\n",
    "knn_ae = []\n",
    "knn_eq = []\n",
    "knn_dtw = []\n",
    "knn_umap = []\n",
    "top_xcross = []\n",
    "\n",
    "for target in targets:\n",
    "    print('Search for window #{}'.format(target), end='', flush=True)\n",
    "    knn_ae.append(knn(latent, target, k))\n",
    "    print('.', end='', flush=True)\n",
    "    knn_eq.append(knn(data_test, target, k))\n",
    "    print('.', end='', flush=True)\n",
    "    knn_dtw.append(pooled_dtw(data_test, target, k))\n",
    "    print('.', end='', flush=True)\n",
    "    knn_umap.append(knn(umap_embedding, target, k))\n",
    "    print('.', end='', flush=True)\n",
    "    top_xcross.append(xcorrelation(data_test, target, k, normalize=True, zero_normalize=True))\n",
    "    print('. done!')"
   ]
  },
  {
   "cell_type": "markdown",
   "metadata": {},
   "source": [
    "## 2.4kb visual comparison of search strategies\n",
    "\n",
    "Compare encoding-based knn similarity search strategies against normalize cross correlation.\n",
    "\n",
    "| Rows  | Description                                      |\n",
    "|-------|--------------------------------------------------|\n",
    "| 1     | Search target. Manually picked.                  |\n",
    "| 2-6   | k-NN in the CAE-based latent space.              |\n",
    "| 7-11  | k-NN in the Euclide space.                       |\n",
    "| 11-16 | k-NN on the dynamic time warping space.          |\n",
    "| 17-21 | k-NN on the UMAP embedded space.                 |\n",
    "| 21-26 | Zero-normalized cross correlation.               |"
   ]
  },
  {
   "cell_type": "code",
   "execution_count": 139,
   "metadata": {
    "scrolled": false
   },
   "outputs": [
    {
     "data": {
      "image/png": "[encoded data removed]",
      "text/plain": [
       "<Figure size 2520x2592 with 182 Axes>"
      ]
     },
     "metadata": {},
     "output_type": "display_data"
    }
   ],
   "source": [
    "import matplotlib.pyplot as plt \n",
    "import numpy as np\n",
    "\n",
    "N = (k + 1) * 6\n",
    "\n",
    "T = len(targets)\n",
    "sz = data_test[0].size\n",
    "\n",
    "plt.figure(figsize=(5 * T, N))\n",
    "\n",
    "ymax = 1.0\n",
    "\n",
    "show_predictions = False\n",
    "\n",
    "for i, target in enumerate(targets):\n",
    "    ax = plt.subplot(N, T, (i + 1))\n",
    "        \n",
    "    ax.set_facecolor(\"#D9FAFF\")\n",
    "    \n",
    "    if show_predictions:\n",
    "        plt.bar(np.arange(sz), data_test[target], color='black', alpha=0.33)\n",
    "        plt.bar(np.arange(sz), data_test[target], color='black', alpha=0.33)\n",
    "    else:\n",
    "        plt.bar(np.arange(sz), data_test[target], color='#004754')\n",
    "\n",
    "    plt.ylim(0, ymax)\n",
    "    plt.xticks([], [])\n",
    "    plt.yticks([], [])\n",
    "\n",
    "    for j, hit in enumerate(knn_ae[i]):\n",
    "        plt.subplot(N, T, ((j + 1) * T) + (i + 1))\n",
    "        if show_predictions:\n",
    "            plt.bar(np.arange(sz), predicted[hit], color='green', alpha=0.33)\n",
    "            plt.bar(np.arange(sz), data_test[hit], color='black', alpha=0.33)\n",
    "        else:\n",
    "            plt.bar(np.arange(sz), data_test[hit], color='#d24f00')\n",
    "        plt.ylim(0, ymax)\n",
    "        plt.xticks([], [])\n",
    "        plt.yticks([], [])\n",
    "        plt.subplots_adjust(top=0.9)\n",
    "\n",
    "    for j, hit in enumerate(knn_eq[i]):\n",
    "        plt.subplot(N, T, ((j + 6) * T) + (i + 1))\n",
    "        if show_predictions:\n",
    "            plt.bar(np.arange(sz), predicted[hit], color='green', alpha=0.33)\n",
    "            plt.bar(np.arange(sz), data_test[hit], color='black', alpha=0.33)\n",
    "        else:\n",
    "            plt.bar(np.arange(sz), data_test[hit], color='#008ca8')\n",
    "        plt.ylim(0, ymax)\n",
    "        plt.xticks([], [])\n",
    "        plt.yticks([], [])\n",
    "\n",
    "    for j, hit in enumerate(knn_dtw[i]):\n",
    "        plt.subplot(N, T, ((j + 11) * T) + (i + 1))\n",
    "        if show_predictions:\n",
    "            plt.bar(np.arange(sz), predicted[hit], color='red', alpha=0.33)\n",
    "            plt.bar(np.arange(sz), data_test[hit], color='black', alpha=0.33)\n",
    "        else:\n",
    "            plt.bar(np.arange(sz), data_test[hit], color='#93209e')\n",
    "        plt.ylim(0, ymax)\n",
    "        plt.xticks([], [])\n",
    "        plt.yticks([], [])\n",
    "\n",
    "    for j, hit in enumerate(knn_umap[i]):\n",
    "        plt.subplot(N, T, ((j + 16) * T) + (i + 1))\n",
    "        if show_predictions:\n",
    "            plt.bar(np.arange(sz), predicted[hit], color='yellow', alpha=0.33)\n",
    "            plt.bar(np.arange(sz), data_test[hit], color='black')\n",
    "        else:\n",
    "            plt.bar(np.arange(sz), data_test[hit], color='#209e4e')\n",
    "        plt.ylim(0, ymax)\n",
    "        plt.xticks([], [])\n",
    "        plt.yticks([], [])\n",
    "\n",
    "    for j, hit in enumerate(top_xcross[i]):\n",
    "        plt.subplot(N, T, ((j + 21) * T) + (i + 1))\n",
    "        plt.bar(np.arange(sz), data_test[hit], color='#cc9900')\n",
    "        plt.ylim(0, ymax)\n",
    "        plt.xticks([], [])\n",
    "        plt.yticks([], [])"
   ]
  },
  {
   "cell_type": "code",
   "execution_count": null,
   "metadata": {},
   "outputs": [],
   "source": []
  }
 ],
 "metadata": {
  "kernelspec": {
   "display_name": "Python 3",
   "language": "python",
   "name": "python3"
  },
  "language_info": {
   "codemirror_mode": {
    "name": "ipython",
    "version": 3
   },
   "file_extension": ".py",
   "mimetype": "text/x-python",
   "name": "python",
   "nbconvert_exporter": "python",
   "pygments_lexer": "ipython3",
   "version": "3.6.7"
  }
 },
 "nbformat": 4,
 "nbformat_minor": 2
}
