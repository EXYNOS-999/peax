{
 "cells": [
  {
   "cell_type": "markdown",
   "metadata": {},
   "source": [
    "# Explore Simulation with 3 Targets"
   ]
  },
  {
   "cell_type": "code",
   "execution_count": 2,
   "metadata": {},
   "outputs": [
    {
     "data": {
      "application/vnd.jupyter.widget-view+json": {
       "model_id": "3a5d67ab4f8c4b818e294d82d95b9395",
       "version_major": 2,
       "version_minor": 0
      },
      "text/plain": [
       "Dropdown(description='Experiment:', options=(('1.2 Mbps with 100K reads', 'small'), ('12 Mbps with 1M reads', …"
      ]
     },
     "metadata": {},
     "output_type": "display_data"
    }
   ],
   "source": [
    "%load_ext autoreload\n",
    "%autoreload 2\n",
    "\n",
    "import higlass as hg\n",
    "import ipywidgets as widgets\n",
    "import numpy as np\n",
    "\n",
    "from utils import create_annotation_track, create_bed_vector_tileset, extract_annotations\n",
    "\n",
    "experiment = widgets.Dropdown(\n",
    "    options=[('1.2 Mbps with 100K reads', 'small'), ('12 Mbps with 1M reads', 'large')],\n",
    "    value='small',\n",
    "    description='Experiment:',\n",
    ")\n",
    "\n",
    "experiment"
   ]
  },
  {
   "cell_type": "code",
   "execution_count": 3,
   "metadata": {},
   "outputs": [],
   "source": [
    "if experiment.value == 'small':\n",
    "    genome_size = int(1.2e6)\n",
    "    num_reads = int(1e5)\n",
    "else:\n",
    "    genome_size = int(1.2e7)\n",
    "    num_reads = int(1e6)\n",
    "    \n",
    "suffix = f\"{genome_size}-{num_reads}\""
   ]
  },
  {
   "cell_type": "markdown",
   "metadata": {},
   "source": [
    "### Tilesets"
   ]
  },
  {
   "cell_type": "code",
   "execution_count": 4,
   "metadata": {},
   "outputs": [],
   "source": [
    "ts_signal_1 = hg.tilesets.bigwig(f'data/signal-target-1-distorted-peaks-{suffix}.bigWig')\n",
    "ts_signal_2 = hg.tilesets.bigwig(f'data/signal-target-2-distorted-peaks-{suffix}.bigWig')\n",
    "ts_signal_3 = hg.tilesets.bigwig(f'data/signal-target-3-distorted-peaks-{suffix}.bigWig')\n",
    "ts_signal = [ts_signal_1, ts_signal_2, ts_signal_3]\n",
    "\n",
    "ts_feature_weights = create_bed_vector_tileset(\n",
    "    f'data/simulated-features-3-targets-{suffix}.bed',\n",
    "    f'data/simulated-genome-chrom-sizes-{suffix}.tsv',\n",
    "    uuid = 'feature_weights',\n",
    "    aggregator = np.max,\n",
    "    log_scale = True\n",
    ")\n",
    "\n",
    "annos_1, annos_2, annos_3, _, _, _, annos_all = extract_annotations(\n",
    "    f'data/simulated-features-3-targets-{suffix}.bed',\n",
    "    {\n",
    "        'BindingA': [0],\n",
    "        'BindingB': [1],\n",
    "        'BindingC': [2],\n",
    "        'BindingAB': [0, 1, 3],\n",
    "        'BindingAC': [0, 2, 4],\n",
    "        'BindingBC': [1, 2, 5],\n",
    "        'BindingABC': [0, 1, 2, 3, 4, 5, 6]\n",
    "    },\n",
    "    f'data/simulated-genome-chrom-sizes-{suffix}.tsv',\n",
    ")"
   ]
  },
  {
   "cell_type": "markdown",
   "metadata": {},
   "source": [
    "### Tracks"
   ]
  },
  {
   "cell_type": "code",
   "execution_count": 6,
   "metadata": {},
   "outputs": [
    {
     "data": {
      "application/vnd.jupyter.widget-view+json": {
       "model_id": "266ec28d4d5d486cb6e1849f5d615ac0",
       "version_major": 2,
       "version_minor": 0
      },
      "text/plain": [
       "HiGlassDisplay(viewconf={'editable': True, 'views': [{'uid': 'v', 'tracks': {'top': [{'type': 'top-axis', 'uid…"
      ]
     },
     "metadata": {},
     "output_type": "display_data"
    }
   ],
   "source": [
    "tr_axis = hg.Track(track_type='top-axis', position='top', uid=\"axis\")\n",
    "\n",
    "tr_annos_1 = create_annotation_track('annos-1', annos_1)\n",
    "tr_annos_2 = create_annotation_track('annos-2', annos_2)\n",
    "tr_annos_3 = create_annotation_track('annos-3', annos_3)\n",
    "\n",
    "tr_feature_weights = hg.Track(\n",
    "    'horizontal-bar',\n",
    "    uid='feature-weights',\n",
    "    tileset=ts_feature_weights,\n",
    "    position='top',\n",
    "    height=16,\n",
    "    options={\n",
    "        \"name\": \"Feature weights (log)\",\n",
    "        \"colorRange\": [\n",
    "            \"#f2f2f2\", \"#f2f2f2\", \"#f2f2f2\", \"#f2f2f2\", \"#dddddd\", \"#bbbbbb\", \"#888888\"\n",
    "        ],\n",
    "        \"labelColor\": \"#666666\",\n",
    "    }\n",
    ")\n",
    "\n",
    "tr_signal = []\n",
    "\n",
    "for i in range(3):\n",
    "    tr_signal.append(hg.Track(\n",
    "        'horizontal-bar',\n",
    "        uid=f\"signal-{i + 1}\",\n",
    "        tileset=ts_signal[i],\n",
    "        position='top',\n",
    "        height=48,\n",
    "        options={\n",
    "            'name': f\"Target {i + 1} signal\",\n",
    "            'labelColor': '#6fb2e4',\n",
    "            'colorRange': ['#6fb2e4', '#0064a8'],\n",
    "        }\n",
    "    ))\n",
    "\n",
    "overlays = [{\n",
    "    \"uid\": \"overlays\",\n",
    "    \"includes\": [\n",
    "        \"feature-weights\",\n",
    "        \"annos-1\",\n",
    "        \"annos-2\",\n",
    "        \"annos-3\",\n",
    "        \"signal-1\",\n",
    "        \"signal-2\",\n",
    "        \"signal-3\",\n",
    "    ],\n",
    "    \"options\": {\n",
    "        \"extent\": [\n",
    "            [int(x[0]), int(x[1])] for x in annos_all\n",
    "        ],\n",
    "        \"minWidth\": 6,\n",
    "        \"fill\": \"#c17da5\",\n",
    "        \"fillOpacity\": 0.1,\n",
    "        \"stroke\": \"white\",\n",
    "        \"strokeWidth\": 1,\n",
    "        \"strokePos\": [\"left\", \"right\"],\n",
    "        \"outline\": \"#c17da5\",\n",
    "        \"outlineWidth\": 2,\n",
    "        \"outlinePos\": [\"left\", \"right\"]\n",
    "    }\n",
    "}]\n",
    "\n",
    "widget, server, _ = hg.display(\n",
    "    views=[\n",
    "        hg.View(\n",
    "            [\n",
    "                tr_axis,\n",
    "                tr_feature_weights,\n",
    "                tr_annos_1,\n",
    "                tr_annos_2,\n",
    "                tr_annos_3,\n",
    "                tr_signal[0],\n",
    "                tr_signal[1],\n",
    "                tr_signal[2],\n",
    "            ],\n",
    "            uid='v',\n",
    "            initialXDomain=[0, genome_size],\n",
    "            overlays=overlays\n",
    "        )\n",
    "    ],\n",
    "    value_scale_syncs=[[\n",
    "        tr_signal[0],\n",
    "        tr_signal[1],\n",
    "        tr_signal[2],\n",
    "    ]],\n",
    "    no_fuse=True\n",
    ")\n",
    "\n",
    "widget"
   ]
  },
  {
   "cell_type": "code",
   "execution_count": null,
   "metadata": {},
   "outputs": [],
   "source": []
  }
 ],
 "metadata": {
  "kernelspec": {
   "display_name": "Python 3",
   "language": "python",
   "name": "python3"
  },
  "language_info": {
   "codemirror_mode": {
    "name": "ipython",
    "version": 3
   },
   "file_extension": ".py",
   "mimetype": "text/x-python",
   "name": "python",
   "nbconvert_exporter": "python",
   "pygments_lexer": "ipython3",
   "version": "3.7.3"
  }
 },
 "nbformat": 4,
 "nbformat_minor": 4
}
